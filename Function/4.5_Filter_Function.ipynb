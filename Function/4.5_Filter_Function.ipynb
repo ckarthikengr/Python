{
 "cells": [
  {
   "cell_type": "code",
   "execution_count": null,
   "id": "60c8b414",
   "metadata": {},
   "outputs": [],
   "source": [
    "##  The filter function"
   ]
  },
  {
   "cell_type": "code",
   "execution_count": 1,
   "id": "71015be4",
   "metadata": {},
   "outputs": [
    {
     "data": {
      "text/plain": [
       "True"
      ]
     },
     "execution_count": 1,
     "metadata": {},
     "output_type": "execute_result"
    }
   ],
   "source": [
    "def even(num):\n",
    "    return num%2==0\n",
    "\n",
    "even(220)"
   ]
  },
  {
   "cell_type": "code",
   "execution_count": 3,
   "id": "5eebaada",
   "metadata": {},
   "outputs": [
    {
     "data": {
      "text/plain": [
       "[2, 4, 6, 8, 10]"
      ]
     },
     "execution_count": 3,
     "metadata": {},
     "output_type": "execute_result"
    }
   ],
   "source": [
    "lst=[1,2,3,4,5,6,7,8,9,10]\n",
    "list(filter(even,lst))"
   ]
  },
  {
   "cell_type": "code",
   "execution_count": 5,
   "id": "ea9cabed",
   "metadata": {},
   "outputs": [
    {
     "name": "stdout",
     "output_type": "stream",
     "text": [
      "[6, 7, 8, 9, 10]\n"
     ]
    }
   ],
   "source": [
    "## filter with lambda function\n",
    "lst=[1,2,3,4,5,6,7,8,9,10]\n",
    "greater_than_five=list(filter(lambda x:x>5,lst))\n",
    "print(greater_than_five)"
   ]
  },
  {
   "cell_type": "code",
   "execution_count": 8,
   "id": "7f9139cb",
   "metadata": {},
   "outputs": [
    {
     "name": "stdout",
     "output_type": "stream",
     "text": [
      "[6, 8, 10]\n"
     ]
    }
   ],
   "source": [
    "#Filter with a lambda function and multiple condition\n",
    "nums=[1,2,3,4,5,6,7,8,9,10]\n",
    "even_greater_than_five=list(filter(lambda x:x%2==0 and x>5, nums))\n",
    "print(even_greater_than_five)\n"
   ]
  },
  {
   "cell_type": "code",
   "execution_count": 9,
   "id": "fbd1dddb",
   "metadata": {},
   "outputs": [
    {
     "name": "stdout",
     "output_type": "stream",
     "text": [
      "[{'name': 'karthik', 'age': 32}, {'name': 'chinnadurai', 'age': 40}]\n"
     ]
    }
   ],
   "source": [
    "## apply filter if age is greater than 18\n",
    "people=[\n",
    "    {'name':'karthik','age':32},\n",
    "    {'name':'chinnadurai','age':40},\n",
    "    {'name':'Joe','age':12},\n",
    "    {'name':'Bob','age':10}\n",
    "]\n",
    "\n",
    "def age_greater_than_25(person):\n",
    "    return person['age'] > 25\n",
    "\n",
    "names = list(filter(age_greater_than_25,people))\n",
    "print(names)"
   ]
  },
  {
   "cell_type": "code",
   "execution_count": 11,
   "id": "d6c5c2e6",
   "metadata": {},
   "outputs": [
    {
     "name": "stdout",
     "output_type": "stream",
     "text": [
      "[{'name': 'karthik', 'age': 32}, {'name': 'chinnadurai', 'age': 40}]\n"
     ]
    }
   ],
   "source": [
    "names = list(filter(lambda person:person['age']>25,people))\n",
    "print(names)"
   ]
  },
  {
   "cell_type": "code",
   "execution_count": null,
   "id": "373f6dde",
   "metadata": {},
   "outputs": [],
   "source": []
  }
 ],
 "metadata": {
  "kernelspec": {
   "display_name": "Python 3",
   "language": "python",
   "name": "python3"
  },
  "language_info": {
   "codemirror_mode": {
    "name": "ipython",
    "version": 3
   },
   "file_extension": ".py",
   "mimetype": "text/x-python",
   "name": "python",
   "nbconvert_exporter": "python",
   "pygments_lexer": "ipython3",
   "version": "3.12.0"
  }
 },
 "nbformat": 4,
 "nbformat_minor": 5
}
