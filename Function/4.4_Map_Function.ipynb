{
 "cells": [
  {
   "cell_type": "markdown",
   "id": "d3e8c12c",
   "metadata": {},
   "source": [
    "## map() function in pyhon"
   ]
  },
  {
   "cell_type": "code",
   "execution_count": null,
   "id": "be31f8e9",
   "metadata": {},
   "outputs": [
    {
     "data": {
      "text/plain": [
       "[1, 4, 9, 16, 25, 36, 49]"
      ]
     },
     "execution_count": 4,
     "metadata": {},
     "output_type": "execute_result"
    }
   ],
   "source": [
    "numbers = [1,2,3,4,5,6,7]\n",
    "def square(x):\n",
    "    return x*x\n",
    "\n",
    "list(map(square, numbers)) "
   ]
  },
  {
   "cell_type": "code",
   "execution_count": 7,
   "id": "48e8d05c",
   "metadata": {},
   "outputs": [
    {
     "data": {
      "text/plain": [
       "[1, 4, 9, 16, 25, 36, 49]"
      ]
     },
     "execution_count": 7,
     "metadata": {},
     "output_type": "execute_result"
    }
   ],
   "source": [
    "## Using lambda function with map\n",
    "list(map(lambda x:x*x,numbers))"
   ]
  },
  {
   "cell_type": "code",
   "execution_count": 10,
   "id": "6317fffb",
   "metadata": {},
   "outputs": [
    {
     "name": "stdout",
     "output_type": "stream",
     "text": [
      "[5, 7, 9]\n"
     ]
    }
   ],
   "source": [
    "## map multiple iterables\n",
    "numbers1=[1,2,3]\n",
    "numbers2=[4,5,6]\n",
    "\n",
    "added_numbers=list(map(lambda x,y:x+y,numbers1,numbers2))\n",
    "print(added_numbers)"
   ]
  },
  {
   "cell_type": "code",
   "execution_count": 12,
   "id": "bbfe2939",
   "metadata": {},
   "outputs": [
    {
     "name": "stdout",
     "output_type": "stream",
     "text": [
      "[1, 2, 3, 4]\n"
     ]
    }
   ],
   "source": [
    "##map to convert list of string to integers\n",
    "# Use map to convert string to integer\n",
    "str_numbers=['1','2','3','4']\n",
    "int_numbers=list(map(int , str_numbers))\n",
    "\n",
    "print(int_numbers)"
   ]
  },
  {
   "cell_type": "code",
   "execution_count": 13,
   "id": "30cbf6c0",
   "metadata": {},
   "outputs": [
    {
     "name": "stdout",
     "output_type": "stream",
     "text": [
      "['APPLE', 'BANANA', 'CHERRY', 'JACKFRUIT']\n"
     ]
    }
   ],
   "source": [
    "words=['apple','banana','cherry','jackfruit']\n",
    "upper_words= list(map(str.upper, words))\n",
    "\n",
    "print(upper_words)"
   ]
  },
  {
   "cell_type": "code",
   "execution_count": 14,
   "id": "bf46c9fc",
   "metadata": {},
   "outputs": [
    {
     "data": {
      "text/plain": [
       "['karthik', 'chinnadurai']"
      ]
     },
     "execution_count": 14,
     "metadata": {},
     "output_type": "execute_result"
    }
   ],
   "source": [
    "def get_name(person):\n",
    "    return person['name']\n",
    "\n",
    "people=[\n",
    "    {'name':'karthik','age':32},\n",
    "    {'name':'chinnadurai','age':40}\n",
    "]\n",
    "\n",
    "list(map(get_name,people))\n"
   ]
  },
  {
   "cell_type": "code",
   "execution_count": null,
   "id": "7f517ae9",
   "metadata": {},
   "outputs": [],
   "source": []
  },
  {
   "cell_type": "code",
   "execution_count": null,
   "id": "fb1fd96f",
   "metadata": {},
   "outputs": [],
   "source": []
  }
 ],
 "metadata": {
  "kernelspec": {
   "display_name": "Python 3",
   "language": "python",
   "name": "python3"
  },
  "language_info": {
   "codemirror_mode": {
    "name": "ipython",
    "version": 3
   },
   "file_extension": ".py",
   "mimetype": "text/x-python",
   "name": "python",
   "nbconvert_exporter": "python",
   "pygments_lexer": "ipython3",
   "version": "3.12.0"
  }
 },
 "nbformat": 4,
 "nbformat_minor": 5
}
