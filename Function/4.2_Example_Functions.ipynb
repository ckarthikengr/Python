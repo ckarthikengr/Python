{
 "cells": [
  {
   "cell_type": "code",
   "execution_count": null,
   "id": "a385da7f",
   "metadata": {},
   "outputs": [
    {
     "name": "stdout",
     "output_type": "stream",
     "text": [
      "77.0\n",
      "7.222222222222221\n",
      "None\n"
     ]
    }
   ],
   "source": [
    "### Example 1 Temparature conversion\n",
    "def convert_temparature(temp,unit):\n",
    "    \"\"\"This function converts temparature between celsius and fahrenheit\"\"\"\n",
    "    if unit==\"C\":\n",
    "        return temp *9/5 +32 ## Celsius to Fahrenheit\n",
    "    elif unit==\"F\":\n",
    "        return temp -32 *5/9 ## Fahrenheit to Celsius\n",
    "    else:\n",
    "        return None\n",
    "\n",
    "print(convert_temparature(25,\"C\"))\n",
    "print(convert_temparature(25,\"F\"))\n",
    "print(convert_temparature(25,\"test\"))"
   ]
  },
  {
   "cell_type": "code",
   "execution_count": null,
   "id": "3057b919",
   "metadata": {},
   "outputs": [
    {
     "name": "stdout",
     "output_type": "stream",
     "text": [
      "False\n",
      "True\n"
     ]
    }
   ],
   "source": [
    "### ## Example 2 Password strength checker\n",
    "def is_strong_password(password):\n",
    "    \"\"\"This function checks if the password is strong or not\"\"\"\n",
    "    if len(password)<8:\n",
    "        return False\n",
    "    if not any(char.isdigit() for char in password):\n",
    "        return False\n",
    "    if not any(char.islower() for char in password):\n",
    "        return False\n",
    "    if not any (char.isupper() for char in password):\n",
    "        return False\n",
    "    if not any (char in '!@#$%^&*()_+' for char in password):\n",
    "        return False\n",
    "    return True\n",
    "\n",
    "## calling the function\n",
    "print(is_strong_password(\"WeekPwd\"))\n",
    "print(is_strong_password(\"StrongPwd1!\"))"
   ]
  },
  {
   "cell_type": "code",
   "execution_count": null,
   "id": "04bec707",
   "metadata": {},
   "outputs": [
    {
     "name": "stdout",
     "output_type": "stream",
     "text": [
      "total cost : 5.8999999999999995\n"
     ]
    }
   ],
   "source": [
    "## Example 3 calculate the total cost of items in a shopping  cart\n",
    "\n",
    "def caculate_total_cost(cart):\n",
    "    total_cost=0\n",
    "    for item in cart:\n",
    "        total_cost+=item['price'] * item['quantity']\n",
    "    return total_cost\n",
    "\n",
    "## Exampl cart data\n",
    "cart = [\n",
    "    {'name':'Apple', 'price':0.5,'quantity':4},\n",
    "    {'name':'Banana', 'price':0.3,'quantity':6},\n",
    "    {'name':'Orange', 'price':0.7,'quantity':3}\n",
    "]\n",
    "\n",
    "## Calling the func\n",
    "print(f'total cost : {caculate_total_cost(cart)}')"
   ]
  },
  {
   "cell_type": "code",
   "execution_count": 19,
   "id": "6993e77a",
   "metadata": {},
   "outputs": [
    {
     "name": "stdout",
     "output_type": "stream",
     "text": [
      "True\n",
      "False\n"
     ]
    }
   ],
   "source": [
    "## Example 4 if String is palindrome\n",
    "def is_palindrome(s):\n",
    "    s=s.lower().replace(\" \",\"\")\n",
    "    return s==s[::-1] \n",
    "\n",
    "print(is_palindrome(\"A man a plan a canal Panama\"))\n",
    "print(is_palindrome(\"Hello\"))"
   ]
  },
  {
   "cell_type": "code",
   "execution_count": null,
   "id": "44d7781a",
   "metadata": {},
   "outputs": [
    {
     "name": "stdout",
     "output_type": "stream",
     "text": [
      "24\n"
     ]
    }
   ],
   "source": [
    "## Example 5 Factorial \n",
    "def factorial(n):\n",
    "    if(n==1 or n==0):\n",
    "        return 1;\n",
    "    return n*factorial(n-1)\n",
    "\n",
    "print(factorial(4))"
   ]
  },
  {
   "cell_type": "code",
   "execution_count": 26,
   "id": "54398026",
   "metadata": {},
   "outputs": [
    {
     "data": {
      "text/plain": [
       "{'hello': 1,\n",
       " 'karthik': 2,\n",
       " 'how': 1,\n",
       " 'are': 2,\n",
       " 'you': 2,\n",
       " 'hope': 1,\n",
       " 'doing': 1,\n",
       " 'good': 1}"
      ]
     },
     "execution_count": 26,
     "metadata": {},
     "output_type": "execute_result"
    }
   ],
   "source": [
    "## Example6  a function to read a file and count frequency of each word\n",
    "def count_word_frequency(file_path):\n",
    "    word_count={}\n",
    "    with open(file_path,'r') as file:\n",
    "        for line in file:\n",
    "            words= line.split()\n",
    "            for word in words:\n",
    "                word=word.lower().strip('.,!?:;\"\\'')\n",
    "                word_count[word]=word_count.get(word,0)+1\n",
    "    return word_count\n",
    "\n",
    "file_path='sample.txt'\n",
    "count_word_frequency(file_path)\n"
   ]
  },
  {
   "cell_type": "code",
   "execution_count": 33,
   "id": "96a94cf3",
   "metadata": {},
   "outputs": [
    {
     "name": "stdout",
     "output_type": "stream",
     "text": [
      "True\n",
      "False\n"
     ]
    }
   ],
   "source": [
    "## Example 7 Email validation \n",
    "import re\n",
    "\n",
    "def validate_email(email_id):\n",
    "    \"\"\"Function to check if email id is valid\"\"\"\n",
    "    pattern = r'^[a-zA-Z0-9_.+=-]+@[a-zA-Z0-9-]+\\.[a-zA-Z0-9-.]+$'\n",
    "    return re.match(pattern,email_id) is not None\n",
    "\n",
    "print(validate_email(\"xyz@gmail.com\"))\n",
    "print(validate_email(\"sdfsdfds\"))"
   ]
  },
  {
   "cell_type": "code",
   "execution_count": null,
   "id": "41069ec6",
   "metadata": {},
   "outputs": [],
   "source": []
  }
 ],
 "metadata": {
  "kernelspec": {
   "display_name": "Python 3",
   "language": "python",
   "name": "python3"
  },
  "language_info": {
   "codemirror_mode": {
    "name": "ipython",
    "version": 3
   },
   "file_extension": ".py",
   "mimetype": "text/x-python",
   "name": "python",
   "nbconvert_exporter": "python",
   "pygments_lexer": "ipython3",
   "version": "3.12.0"
  }
 },
 "nbformat": 4,
 "nbformat_minor": 5
}
