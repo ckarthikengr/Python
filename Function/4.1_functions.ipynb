{
 "cells": [
  {
   "cell_type": "code",
   "execution_count": 19,
   "id": "c60d3967",
   "metadata": {},
   "outputs": [],
   "source": [
    "#syntax\n",
    "def function_name(parameters):\n",
    "    \"\"\"Doc string\"\"\"\n",
    "    #Function body\n",
    "    return expression"
   ]
  },
  {
   "cell_type": "code",
   "execution_count": 20,
   "id": "f8cf4be7",
   "metadata": {},
   "outputs": [],
   "source": [
    "def even_or_add(num):\n",
    "    \"\"\"This function finds even or add\"\"\"\n",
    "    if num%2==0:\n",
    "        print(\"the num is even\")\n",
    "    else:\n",
    "        print(\"the num is odd\")"
   ]
  },
  {
   "cell_type": "code",
   "execution_count": 21,
   "id": "9c415945",
   "metadata": {},
   "outputs": [
    {
     "name": "stdout",
     "output_type": "stream",
     "text": [
      "the num is odd\n"
     ]
    }
   ],
   "source": [
    "even_or_add(21)"
   ]
  },
  {
   "cell_type": "code",
   "execution_count": 22,
   "id": "ca037223",
   "metadata": {},
   "outputs": [
    {
     "name": "stdout",
     "output_type": "stream",
     "text": [
      "6\n"
     ]
    }
   ],
   "source": [
    "# Function with multiple parameters\n",
    "def add(a,b):\n",
    "    \"\"\"This function is for add\"\"\"\n",
    "    return a+b\n",
    "\n",
    "result=add(2,4)\n",
    "print(result)"
   ]
  },
  {
   "cell_type": "code",
   "execution_count": 23,
   "id": "7e42062f",
   "metadata": {},
   "outputs": [
    {
     "name": "stdout",
     "output_type": "stream",
     "text": [
      "Hello Karthik, Welcome  to the tech world\n",
      "Hello Guest, Welcome  to the tech world\n"
     ]
    }
   ],
   "source": [
    "## Default parameters\n",
    "def greet(name=\"Guest\"):\n",
    "    print(f\"Hello {name}, Welcome  to the tech world\")\n",
    "\n",
    "greet(\"Karthik\")\n",
    "greet()\n"
   ]
  },
  {
   "cell_type": "code",
   "execution_count": 24,
   "id": "527b1d3e",
   "metadata": {},
   "outputs": [
    {
     "name": "stdout",
     "output_type": "stream",
     "text": [
      "1\n",
      "2\n",
      "3\n",
      "test\n",
      "values\n"
     ]
    }
   ],
   "source": [
    "### Variable Length Arguments\n",
    "## Positional and keywords arguments\n",
    "\n",
    "def print_values(*tests): #can give any variable name instead of args\n",
    "    for test in tests:\n",
    "        print(test)\n",
    "\n",
    "print_values(1,2,3,\"test\",\"values\")"
   ]
  },
  {
   "cell_type": "code",
   "execution_count": 27,
   "id": "fb60bfac",
   "metadata": {},
   "outputs": [],
   "source": [
    "### Keywords arguments -all param will be in key value pairs\\\n",
    "\n",
    "def print_details(**kwargs):\n",
    "    for key,value in kwargs.items():\n",
    "        print(f\"{key}:{value}\")\n",
    "\n"
   ]
  },
  {
   "cell_type": "code",
   "execution_count": 28,
   "id": "3bbb688b",
   "metadata": {},
   "outputs": [
    {
     "name": "stdout",
     "output_type": "stream",
     "text": [
      "name:karthik\n",
      "age:33\n",
      "country:india\n"
     ]
    }
   ],
   "source": [
    "print_details(name=\"karthik\" ,age=\"33\" ,country=\"india\")"
   ]
  },
  {
   "cell_type": "code",
   "execution_count": 41,
   "id": "2ea7b8c7",
   "metadata": {},
   "outputs": [],
   "source": [
    "#positional arg and keyword args\n",
    "def print_details(*args,**kwargs):\n",
    "    for  val in args:\n",
    "        print(f\"Positional argument {val}\")\n",
    "    \n",
    "    for key,value in kwargs.items():\n",
    "        print(f\"{key}:{value}\")\n",
    "\n"
   ]
  },
  {
   "cell_type": "code",
   "execution_count": 42,
   "id": "b9587a33",
   "metadata": {},
   "outputs": [
    {
     "name": "stdout",
     "output_type": "stream",
     "text": [
      "Positional argument 1\n",
      "Positional argument 2\n",
      "Positional argument 3\n",
      "Positional argument 4\n",
      "Positional argument 5\n",
      "Positional argument 6\n",
      "Positional argument chinnadurai\n",
      "name:karthik\n",
      "age:33\n",
      "country:india\n"
     ]
    }
   ],
   "source": [
    "print_details(1,2,3,4,5,6,\"chinnadurai\",name=\"karthik\",age=33,country=\"india\")"
   ]
  },
  {
   "cell_type": "code",
   "execution_count": 44,
   "id": "6e0bce8e",
   "metadata": {},
   "outputs": [
    {
     "data": {
      "text/plain": [
       "6"
      ]
     },
     "execution_count": 44,
     "metadata": {},
     "output_type": "execute_result"
    }
   ],
   "source": [
    "##Return statements\n",
    "def multiply(a,b):\n",
    "    return a*b\n",
    "\n",
    "multiply(2,3)"
   ]
  },
  {
   "cell_type": "code",
   "execution_count": 45,
   "id": "94ddf8ec",
   "metadata": {},
   "outputs": [
    {
     "data": {
      "text/plain": [
       "(6, 2, 3)"
      ]
     },
     "execution_count": 45,
     "metadata": {},
     "output_type": "execute_result"
    }
   ],
   "source": [
    "##Return  multiple values \n",
    "def multiply(a,b):\n",
    "    return a*b,a,b\n",
    "\n",
    "multiply(2,3)"
   ]
  }
 ],
 "metadata": {
  "kernelspec": {
   "display_name": "Python 3",
   "language": "python",
   "name": "python3"
  },
  "language_info": {
   "codemirror_mode": {
    "name": "ipython",
    "version": 3
   },
   "file_extension": ".py",
   "mimetype": "text/x-python",
   "name": "python",
   "nbconvert_exporter": "python",
   "pygments_lexer": "ipython3",
   "version": "3.12.0"
  }
 },
 "nbformat": 4,
 "nbformat_minor": 5
}
