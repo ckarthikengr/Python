{
 "cells": [
  {
   "cell_type": "code",
   "execution_count": 22,
   "id": "32da1f7a",
   "metadata": {},
   "outputs": [
    {
     "name": "stdout",
     "output_type": "stream",
     "text": [
      "current working directory e:\\Learning\\My_Learning_Workspace\\python\\6_File_Handling\n"
     ]
    }
   ],
   "source": [
    "## Working with file path\n",
    "\n",
    "import os\n",
    "cwd =os.getcwd()\n",
    "print(f\"current working directory {cwd}\")"
   ]
  },
  {
   "cell_type": "code",
   "execution_count": 23,
   "id": "378604b8",
   "metadata": {},
   "outputs": [
    {
     "name": "stdout",
     "output_type": "stream",
     "text": [
      "Directory is created package\n"
     ]
    }
   ],
   "source": [
    "## create a new directory\n",
    "\n",
    "dir_name='package'\n",
    "os.mkdir(dir_name)\n",
    "print(f\"Directory is created {dir_name}\")"
   ]
  },
  {
   "cell_type": "code",
   "execution_count": 24,
   "id": "19a376de",
   "metadata": {},
   "outputs": [
    {
     "name": "stdout",
     "output_type": "stream",
     "text": [
      "['6.1_fileoperation.ipynb', '6.2_filepath.ipynb', 'destination.txt', 'example.bin', 'example.txt', 'package']\n"
     ]
    }
   ],
   "source": [
    "## Listing all the files and directories\n",
    "\n",
    "items = os.listdir('.');\n",
    "print(items)\n"
   ]
  },
  {
   "cell_type": "code",
   "execution_count": 26,
   "id": "a47662bc",
   "metadata": {},
   "outputs": [
    {
     "name": "stdout",
     "output_type": "stream",
     "text": [
      "folder\\file.txt\n"
     ]
    }
   ],
   "source": [
    "## Joining path (windows or mac  or linux can have diff directory structure, this fn is partucularly useful in such scenario)\n",
    "\n",
    "dir_name='folder'\n",
    "file_name=\"file.txt\"\n",
    "full_path=os.path.join(dir_name,file_name)\n",
    "print(full_path)"
   ]
  },
  {
   "cell_type": "code",
   "execution_count": null,
   "id": "b45b3a31",
   "metadata": {},
   "outputs": [
    {
     "name": "stdout",
     "output_type": "stream",
     "text": [
      "e:\\Learning\\My_Learning_Workspace\\python\\6_File_Handling\\folder\\file.txt\n"
     ]
    }
   ],
   "source": [
    "## To get full path\n",
    "dir_name='folder'\n",
    "file_name=\"file.txt\"\n",
    "full_path=os.path.join(os.getcwd(),dir_name,file_name)\n",
    "print(full_path)"
   ]
  },
  {
   "cell_type": "code",
   "execution_count": 28,
   "id": "1b33993d",
   "metadata": {},
   "outputs": [
    {
     "name": "stdout",
     "output_type": "stream",
     "text": [
      "File example.txt exists\n"
     ]
    }
   ],
   "source": [
    "## Condition to check if the file exists\n",
    "file_path='example.txt'\n",
    "if os.path.exists(file_path):\n",
    "    print(f\"File {file_path} exists\")\n",
    "else:\n",
    "    print(f\"File {file_path} doesn't  exists\")"
   ]
  },
  {
   "cell_type": "code",
   "execution_count": 29,
   "id": "ad99bfa4",
   "metadata": {},
   "outputs": [
    {
     "name": "stdout",
     "output_type": "stream",
     "text": [
      "example.txt is file\n"
     ]
    }
   ],
   "source": [
    "## Checking if the path is file or directory\n",
    "loc = 'example.txt'\n",
    "if os.path.isfile(loc):\n",
    "    print(f\"{loc} is file\")\n",
    "elif os.path.isdir(loc):\n",
    "    print(f\"{loc} is directory\")\n",
    "else:\n",
    "    print(f\"{loc} is neither a file nor a directory\")"
   ]
  },
  {
   "cell_type": "code",
   "execution_count": 31,
   "id": "26b16a6a",
   "metadata": {},
   "outputs": [
    {
     "name": "stdout",
     "output_type": "stream",
     "text": [
      "e:\\Learning\\My_Learning_Workspace\\python\\6_File_Handling\\example.txt\n"
     ]
    }
   ],
   "source": [
    "## Getting the absolute path\n",
    "\n",
    "relative_path ='example.txt'\n",
    "absolute_path= os.path.abspath(relative_path)\n",
    "print(absolute_path)"
   ]
  },
  {
   "cell_type": "code",
   "execution_count": null,
   "id": "ba43d157",
   "metadata": {},
   "outputs": [],
   "source": [
    "\n"
   ]
  }
 ],
 "metadata": {
  "kernelspec": {
   "display_name": "Python 3",
   "language": "python",
   "name": "python3"
  },
  "language_info": {
   "codemirror_mode": {
    "name": "ipython",
    "version": 3
   },
   "file_extension": ".py",
   "mimetype": "text/x-python",
   "name": "python",
   "nbconvert_exporter": "python",
   "pygments_lexer": "ipython3",
   "version": "3.12.0"
  }
 },
 "nbformat": 4,
 "nbformat_minor": 5
}
