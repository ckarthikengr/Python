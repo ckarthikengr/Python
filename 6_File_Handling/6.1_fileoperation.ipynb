{
 "cells": [
  {
   "cell_type": "code",
   "execution_count": 17,
   "id": "f56f61da",
   "metadata": {},
   "outputs": [
    {
     "name": "stdout",
     "output_type": "stream",
     "text": [
      "hello how are you\n",
      "my name is karthik\n",
      "this is sample text file\n"
     ]
    }
   ],
   "source": [
    "## File handling\n",
    "\n",
    "## Read a whole file\n",
    "\n",
    "with open('example.txt', 'r') as file:\n",
    "    content=file.read()\n",
    "    print(content)"
   ]
  },
  {
   "cell_type": "code",
   "execution_count": 19,
   "id": "d1faafe8",
   "metadata": {},
   "outputs": [
    {
     "name": "stdout",
     "output_type": "stream",
     "text": [
      "hello how are you\n",
      "my name is karthik\n",
      "this is sample text file\n"
     ]
    }
   ],
   "source": [
    "## Read a file line by line\n",
    "\n",
    "with open('example.txt','r') as file:\n",
    "    for line in file:\n",
    "        print(line.strip()) ## .strip() removes additional new line character"
   ]
  },
  {
   "cell_type": "code",
   "execution_count": null,
   "id": "d8fcca18",
   "metadata": {},
   "outputs": [],
   "source": [
    "## writing a file (Overwriting)\n",
    "\n",
    "with open('example.txt','w') as file:  ## this will override the file completely\n",
    "    file.write(\"Hello world!\\n\")     \n",
    "    file.write('This is a new line') "
   ]
  },
  {
   "cell_type": "code",
   "execution_count": 21,
   "id": "ce26525c",
   "metadata": {},
   "outputs": [],
   "source": [
    "## write a file without overwriting\n",
    "\n",
    "with open('example.txt', 'a') as file:\n",
    "    file.write(\"Append a new line\\n\")\n",
    "    file.write(\"new line to append\")\n"
   ]
  },
  {
   "cell_type": "code",
   "execution_count": 22,
   "id": "34ef909d",
   "metadata": {},
   "outputs": [],
   "source": [
    "## writing a list of lines to a file\n",
    "\n",
    "lines =['First line\\n','Second line \\n','Third line \\n']\n",
    "with open('example.txt','a') as file:\n",
    "    file.writelines(lines)\n",
    "\n"
   ]
  },
  {
   "cell_type": "code",
   "execution_count": 23,
   "id": "4db0bf30",
   "metadata": {},
   "outputs": [],
   "source": [
    "## Binary Files\n",
    "\n",
    "#writing to a binary file\n",
    "data = b'\\x00\\x01\\x02\\x03\\x04'\n",
    "with open('example.bin', 'wb') as file:  ## wb write byte\n",
    "    file.write(data)"
   ]
  },
  {
   "cell_type": "code",
   "execution_count": 24,
   "id": "6d9746f1",
   "metadata": {},
   "outputs": [
    {
     "name": "stdout",
     "output_type": "stream",
     "text": [
      "b'\\x00\\x01\\x02\\x03\\x04'\n"
     ]
    }
   ],
   "source": [
    "# Reading a binary file \n",
    "with open('example.bin', 'rb') as file:  ## wb write byte\n",
    "    content=file.read()\n",
    "    print(content)"
   ]
  },
  {
   "cell_type": "code",
   "execution_count": 26,
   "id": "80789843",
   "metadata": {},
   "outputs": [],
   "source": [
    "## Reading a source file and write to destination file\n",
    "with open ('example.txt','r') as file:\n",
    "    content=file.read()\n",
    "\n",
    "with open('destination.txt','w') as file:\n",
    "    file.write(content)"
   ]
  },
  {
   "cell_type": "code",
   "execution_count": 29,
   "id": "f57c72bb",
   "metadata": {},
   "outputs": [
    {
     "name": "stdout",
     "output_type": "stream",
     "text": [
      "line count 5, word count 19, char count 103\n"
     ]
    }
   ],
   "source": [
    "## Read a txt file and count no of line, words and characters\n",
    "\n",
    "def count_txt_file(file_path):\n",
    "    with open(file_path,'r') as file:\n",
    "        lines = file.readlines()\n",
    "        line_count = len(lines)\n",
    "        word_count = sum(len(line.split()) for line in lines)\n",
    "        char_count = sum(len(line) for line in lines)\n",
    "    return line_count,word_count,char_count\n",
    "\n",
    "line_count,word_count,char_count= count_txt_file('example.txt')\n",
    "print(f'line count {line_count}, word count {word_count}, char count {char_count}')\n",
    "\n",
    "\n",
    "\n"
   ]
  },
  {
   "cell_type": "code",
   "execution_count": 31,
   "id": "3248bc8c",
   "metadata": {},
   "outputs": [
    {
     "name": "stdout",
     "output_type": "stream",
     "text": [
      "Hello world one !!!\n",
      "This is new line\n"
     ]
    }
   ],
   "source": [
    "## Writing and Reading the file\n",
    "## w+ mode will write and read the file, if the file is not available, it will be created. If available, the content will be truncation (i.e file will be overridden\\\n",
    "\n",
    "with open('example.txt','w+') as file:\n",
    "    file.write(\"Hello world one !!!\\n\")\n",
    "    file.write(\"This is new line\")\n",
    "\n",
    "    ##  moving the cursor to the begining so that written text can be read\n",
    "    file.seek(0)\n",
    "\n",
    "    ## Read file content \n",
    "    content=file.read()\n",
    "    print(content)"
   ]
  },
  {
   "cell_type": "code",
   "execution_count": null,
   "id": "da247989",
   "metadata": {},
   "outputs": [],
   "source": []
  }
 ],
 "metadata": {
  "kernelspec": {
   "display_name": "Python 3",
   "language": "python",
   "name": "python3"
  },
  "language_info": {
   "codemirror_mode": {
    "name": "ipython",
    "version": 3
   },
   "file_extension": ".py",
   "mimetype": "text/x-python",
   "name": "python",
   "nbconvert_exporter": "python",
   "pygments_lexer": "ipython3",
   "version": "3.12.0"
  }
 },
 "nbformat": 4,
 "nbformat_minor": 5
}
