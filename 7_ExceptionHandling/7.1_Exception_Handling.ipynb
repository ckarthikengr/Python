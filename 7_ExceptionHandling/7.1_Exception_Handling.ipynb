{
 "cells": [
  {
   "cell_type": "code",
   "execution_count": null,
   "id": "163850d1",
   "metadata": {},
   "outputs": [
    {
     "name": "stdout",
     "output_type": "stream",
     "text": [
      "Variable b is not defined\n"
     ]
    }
   ],
   "source": [
    "## Exception handling\n",
    "\n",
    "try:\n",
    "    a=b\n",
    "except NameError as er:\n",
    "    print(er)\n",
    "    print(\"Variable b is not defined\")"
   ]
  },
  {
   "cell_type": "code",
   "execution_count": 7,
   "id": "eafab405",
   "metadata": {},
   "outputs": [
    {
     "name": "stdout",
     "output_type": "stream",
     "text": [
      "That is not a valid number\n",
      "Execution complete\n"
     ]
    }
   ],
   "source": [
    "## try , except , else and finally\n",
    "try:\n",
    "    num = int(input(\"Enter a number\"))\n",
    "    result = 10/ num\n",
    "except ValueError:\n",
    "    print(\"That is not a valid number\")\n",
    "except ZeroDivisionError:\n",
    "    print(\"you cannot divide by zero\")\n",
    "except Exception as ex:\n",
    "    print(ex)\n",
    "else: ## will be executed if there not exception occured in the try block\n",
    "    print(f\"the result is {result}\")\n",
    "finally:\n",
    "    print(\"Execution complete\")"
   ]
  },
  {
   "cell_type": "code",
   "execution_count": 11,
   "id": "d1a68fbe",
   "metadata": {},
   "outputs": [
    {
     "name": "stdout",
     "output_type": "stream",
     "text": [
      "name 'b' is not defined\n",
      "The file closed\n"
     ]
    }
   ],
   "source": [
    "## File Handling and Exception handling\n",
    "try:\n",
    "    file = open('example.txt','r')\n",
    "    content =file.read()\n",
    "    a=b ## gives value error\n",
    "    print(content)\n",
    "except FileNotFoundError:\n",
    "    print(\"The file doesn't exists\")\n",
    "except Exception as ex:\n",
    "    print(ex)\n",
    "finally:\n",
    "    if 'file' in locals() or not file.closed():\n",
    "        file.close()\n",
    "        print(\"The file closed\")"
   ]
  }
 ],
 "metadata": {
  "kernelspec": {
   "display_name": "Python 3",
   "language": "python",
   "name": "python3"
  },
  "language_info": {
   "codemirror_mode": {
    "name": "ipython",
    "version": 3
   },
   "file_extension": ".py",
   "mimetype": "text/x-python",
   "name": "python",
   "nbconvert_exporter": "python",
   "pygments_lexer": "ipython3",
   "version": "3.12.0"
  }
 },
 "nbformat": 4,
 "nbformat_minor": 5
}
