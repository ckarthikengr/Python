{
 "cells": [
  {
   "cell_type": "markdown",
   "id": "3c8ddcce",
   "metadata": {},
   "source": [
    "#### Pyhon Memory Management\n",
    "\n",
    "Memory management in python involves a combination of automatic garbage collction, reference counting, and various internal optimizations to efficiently manage memory allocation and deallocation. Understanding these mechanisms can help developers write more efficient and robust applications.\n",
    "\n",
    "1.Key concepts in python memory management\n",
    "2.Memory allocation and deallocation\n",
    "3.Reference Counting\n",
    "4.Garbage Collection\n",
    "5.The gc module\n",
    "6.Memory management best practices\n",
    "\n"
   ]
  },
  {
   "cell_type": "markdown",
   "id": "3b90f9c3",
   "metadata": {},
   "source": [
    "### Reference Counting\n",
    "Reference counting is the primary method phython uses to manage memory. Each object in python maintains a count of references pointing\n",
    "to it. When the reference count drops to zero, the memory occupied by the object is deallocated.\n"
   ]
  },
  {
   "cell_type": "code",
   "execution_count": 2,
   "id": "118a6253",
   "metadata": {},
   "outputs": [
    {
     "name": "stdout",
     "output_type": "stream",
     "text": [
      "2\n"
     ]
    }
   ],
   "source": [
    "import sys\n",
    "a=[]\n",
    "\n",
    "## 2 (one reference from 'a' and one from getrefcount function)\n",
    "print(sys.getrefcount(a))"
   ]
  },
  {
   "cell_type": "code",
   "execution_count": 3,
   "id": "b780fe95",
   "metadata": {},
   "outputs": [
    {
     "name": "stdout",
     "output_type": "stream",
     "text": [
      "3\n"
     ]
    }
   ],
   "source": [
    "b=a\n",
    "print(sys.getrefcount(a))"
   ]
  },
  {
   "cell_type": "code",
   "execution_count": 4,
   "id": "6f95c9ce",
   "metadata": {},
   "outputs": [
    {
     "name": "stdout",
     "output_type": "stream",
     "text": [
      "2\n"
     ]
    }
   ],
   "source": [
    "del b\n",
    "print(sys.getrefcount(a))"
   ]
  },
  {
   "cell_type": "markdown",
   "id": "60ed7e4e",
   "metadata": {},
   "source": [
    "#### Garbage Collection\n",
    "\n",
    "Python includes a cyclic garbage collector to handle  reference cycles. Reference cycles occur when objects reference each other,\n",
    "preventing their reference counts from reaching zero."
   ]
  },
  {
   "cell_type": "code",
   "execution_count": 5,
   "id": "d9240935",
   "metadata": {},
   "outputs": [],
   "source": [
    "import gc\n",
    "\n",
    "## enable garbage colection\n",
    "gc.enable()"
   ]
  },
  {
   "cell_type": "code",
   "execution_count": 6,
   "id": "011763e5",
   "metadata": {},
   "outputs": [],
   "source": [
    "## to disable gc\n",
    "gc.disable()"
   ]
  },
  {
   "cell_type": "code",
   "execution_count": 7,
   "id": "30f82b8e",
   "metadata": {},
   "outputs": [
    {
     "data": {
      "text/plain": [
       "63"
      ]
     },
     "execution_count": 7,
     "metadata": {},
     "output_type": "execute_result"
    }
   ],
   "source": [
    "## To manually trigger gc \n",
    "gc.collect()"
   ]
  },
  {
   "cell_type": "code",
   "execution_count": 8,
   "id": "5ba42fd3",
   "metadata": {},
   "outputs": [
    {
     "name": "stdout",
     "output_type": "stream",
     "text": [
      "[{'collections': 175, 'collected': 1631, 'uncollectable': 0}, {'collections': 15, 'collected': 83, 'uncollectable': 0}, {'collections': 2, 'collected': 63, 'uncollectable': 0}]\n"
     ]
    }
   ],
   "source": [
    "## Get garbage collection statistics\n",
    "\n",
    "print(gc.get_stats())"
   ]
  },
  {
   "cell_type": "code",
   "execution_count": 9,
   "id": "7ad444d0",
   "metadata": {},
   "outputs": [
    {
     "name": "stdout",
     "output_type": "stream",
     "text": [
      "[]\n"
     ]
    }
   ],
   "source": [
    "## get unreachable objects\n",
    "print(gc.garbage)"
   ]
  },
  {
   "cell_type": "markdown",
   "id": "20acb282",
   "metadata": {},
   "source": [
    "#### Memory management Best Practices\n",
    "\n",
    "1. Use local variables: local variables have a shorter lifespan and are freed sooner than global variables.\n",
    "2. Avoid circular references:Circular references can lead to memory leaks if not properly managed.\n",
    "3. Use Generators: Generators produce items one at a time and only keep one item in memory at a time, making \n",
    "them moemory efficient.\n",
    "4. Explicitly Delete objects: use the del statement to delete variables and objects explicitly.\n",
    "5. profile Memory Usage: Use memory profiling tools like tracemalloc and memory_profiler to identify memory leaks and optimize \n",
    "memory usage."
   ]
  },
  {
   "cell_type": "code",
   "execution_count": 12,
   "id": "e7500745",
   "metadata": {},
   "outputs": [
    {
     "name": "stdout",
     "output_type": "stream",
     "text": [
      "Object obj1 created\n",
      "Object obj2 created\n",
      "Object obj1 deleted\n",
      "Object obj2 deleted\n",
      "Object obj1 deleted\n",
      "Object obj2 deleted\n",
      "Object obj1 deleted\n",
      "Object obj2 deleted\n"
     ]
    },
    {
     "data": {
      "text/plain": [
       "656"
      ]
     },
     "execution_count": 12,
     "metadata": {},
     "output_type": "execute_result"
    }
   ],
   "source": [
    "import gc\n",
    "\n",
    "\n",
    "class MyObject:\n",
    "    def __init__(self,name):\n",
    "        self.name=name\n",
    "        print(f\"Object {self.name} created\")\n",
    "    \n",
    "    def __del__(self):\n",
    "        print(f\"Object {self.name} deleted\")\n",
    "    \n",
    "\n",
    "## Create circular reference\n",
    "obj1=MyObject(\"obj1\")\n",
    "obj2=MyObject(\"obj2\")\n",
    "\n",
    "obj1.ref=obj2\n",
    "obj2.ref=obj1\n",
    "\n",
    "\n",
    "del obj1\n",
    "del obj2\n",
    "## Because of circular reference above delete will not do gc\n",
    "\n",
    "\n",
    "##  Hence manually peform GC\n",
    "gc.collect()\n"
   ]
  },
  {
   "cell_type": "code",
   "execution_count": 15,
   "id": "8c4ed819",
   "metadata": {},
   "outputs": [
    {
     "name": "stdout",
     "output_type": "stream",
     "text": [
      "0\n",
      "1\n",
      "2\n",
      "3\n",
      "4\n",
      "5\n",
      "6\n",
      "7\n",
      "8\n",
      "9\n",
      "10\n"
     ]
    }
   ],
   "source": [
    "## Generators for memory efficiency\n",
    "\n",
    "## Generators allow you to produce items one at a time, using memory efficiently by only keeping one item at a time\n",
    "\n",
    "def generate_number(n):\n",
    "    for i in range(n):\n",
    "        yield i\n",
    "\n",
    "## using the generator\n",
    "for num in generate_number(100000):\n",
    "    print(num)\n",
    "    if num>=10:\n",
    "        break\n"
   ]
  },
  {
   "cell_type": "code",
   "execution_count": 16,
   "id": "80423dd3",
   "metadata": {},
   "outputs": [],
   "source": [
    "## Profiling memory usage with tracemalloc\n",
    "\n",
    "import tracemalloc\n",
    "\n",
    "def create_list():\n",
    "    return [i for i in range(10000)]\n",
    "\n",
    "def main():\n",
    "    tracemalloc.start()\n",
    "\n",
    "    create_list()\n",
    "\n",
    "    snapshot= tracemalloc.take_snapshot()\n",
    "    top_stats=snapshot.statistics('lineno')\n",
    "\n",
    "    print(\"[ Top 10 ]\")\n",
    "    for stat in top_stats[:10]:\n",
    "        print(stat)"
   ]
  },
  {
   "cell_type": "code",
   "execution_count": 19,
   "id": "04925c54",
   "metadata": {},
   "outputs": [
    {
     "name": "stdout",
     "output_type": "stream",
     "text": [
      "[ Top 10 ]\n",
      "e:\\Learning\\My_Learning_Workspace\\python\\venv\\Lib\\tracemalloc.py:193: size=4896 B, count=102, average=48 B\n",
      "e:\\Learning\\My_Learning_Workspace\\python\\venv\\Lib\\json\\decoder.py:353: size=2296 B, count=35, average=66 B\n",
      "e:\\Learning\\My_Learning_Workspace\\python\\venv\\Lib\\site-packages\\traitlets\\traitlets.py:731: size=1604 B, count=26, average=62 B\n",
      "e:\\Learning\\My_Learning_Workspace\\python\\venv\\Lib\\site-packages\\IPython\\core\\interactiveshell.py:1597: size=1520 B, count=1, average=1520 B\n",
      "e:\\Learning\\My_Learning_Workspace\\python\\venv\\Lib\\site-packages\\zmq\\sugar\\attrsettr.py:45: size=1504 B, count=32, average=47 B\n",
      "e:\\Learning\\My_Learning_Workspace\\python\\venv\\Lib\\site-packages\\IPython\\core\\interactiveshell.py:3054: size=1297 B, count=2, average=648 B\n",
      "e:\\Learning\\My_Learning_Workspace\\python\\venv\\Lib\\contextlib.py:105: size=1136 B, count=11, average=103 B\n",
      "e:\\Learning\\My_Learning_Workspace\\python\\venv\\Lib\\site-packages\\zmq\\sugar\\socket.py:805: size=1056 B, count=6, average=176 B\n",
      "e:\\Learning\\My_Learning_Workspace\\python\\venv\\Lib\\site-packages\\traitlets\\traitlets.py:1543: size=963 B, count=16, average=60 B\n",
      "e:\\Learning\\My_Learning_Workspace\\python\\venv\\Lib\\site-packages\\jupyter_client\\session.py:1057: size=813 B, count=6, average=136 B\n"
     ]
    }
   ],
   "source": [
    "main()"
   ]
  },
  {
   "cell_type": "code",
   "execution_count": null,
   "id": "797113b9",
   "metadata": {},
   "outputs": [],
   "source": []
  },
  {
   "cell_type": "code",
   "execution_count": null,
   "id": "56557382",
   "metadata": {},
   "outputs": [],
   "source": []
  },
  {
   "cell_type": "code",
   "execution_count": null,
   "id": "e8ef7b74",
   "metadata": {},
   "outputs": [],
   "source": []
  },
  {
   "cell_type": "code",
   "execution_count": null,
   "id": "399c0e9c",
   "metadata": {},
   "outputs": [],
   "source": []
  }
 ],
 "metadata": {
  "kernelspec": {
   "display_name": "Python 3",
   "language": "python",
   "name": "python3"
  },
  "language_info": {
   "codemirror_mode": {
    "name": "ipython",
    "version": 3
   },
   "file_extension": ".py",
   "mimetype": "text/x-python",
   "name": "python",
   "nbconvert_exporter": "python",
   "pygments_lexer": "ipython3",
   "version": "3.12.0"
  }
 },
 "nbformat": 4,
 "nbformat_minor": 5
}
