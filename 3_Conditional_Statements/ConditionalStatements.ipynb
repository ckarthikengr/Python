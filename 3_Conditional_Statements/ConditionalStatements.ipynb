{
 "cells": [
  {
   "cell_type": "code",
   "execution_count": 4,
   "id": "194f14dd",
   "metadata": {},
   "outputs": [
    {
     "name": "stdout",
     "output_type": "stream",
     "text": [
      "You are just old enough to vote.\n"
     ]
    }
   ],
   "source": [
    "## if condition\n",
    "age = 18\n",
    "if age > 18:\n",
    "    print(\"You are allowed to vote.\")\n",
    "elif age == 18:\n",
    "    print(\"You are just old enough to vote.\")\n",
    "else:\n",
    "    print(\"You are not allowed to vote.\")"
   ]
  },
  {
   "cell_type": "code",
   "execution_count": 5,
   "id": "e2c611ef",
   "metadata": {},
   "outputs": [
    {
     "name": "stdout",
     "output_type": "stream",
     "text": [
      "You are allowed to vote.\n",
      "You are just old enough to vote.\n"
     ]
    }
   ],
   "source": [
    "##Nested conditional statements\n",
    "if age >= 18:\n",
    "    print(\"You are allowed to vote.\")\n",
    "    if age == 18:\n",
    "        print(\"You are just old enough to vote.\")   \n",
    "else:\n",
    "    print(\"You are not allowed to vote.\")"
   ]
  },
  {
   "cell_type": "code",
   "execution_count": 6,
   "id": "b2e8a881",
   "metadata": {},
   "outputs": [
    {
     "name": "stdout",
     "output_type": "stream",
     "text": [
      "You are allowed to vote.\n",
      "You are just old enough to vote.\n"
     ]
    }
   ],
   "source": [
    "if age >= 18:\n",
    "    print(\"You are allowed to vote.\")\n",
    "    if age == 18:\n",
    "        print(\"You are just old enough to vote.\")   \n",
    "else:\n",
    "    print(\"You are not allowed to vote.\")"
   ]
  },
  {
   "cell_type": "code",
   "execution_count": 7,
   "id": "ecd53ecc",
   "metadata": {},
   "outputs": [
    {
     "name": "stdout",
     "output_type": "stream",
     "text": [
      "You are allowed to vote.\n"
     ]
    }
   ],
   "source": [
    "age = 20\n",
    "if age >= 18:\n",
    "    print(\"You are allowed to vote.\")\n",
    "    if age == 18:\n",
    "        print(\"You are just old enough to vote.\")   \n",
    "else:\n",
    "    print(\"You are not allowed to vote.\")"
   ]
  },
  {
   "cell_type": "code",
   "execution_count": 8,
   "id": "d900f963",
   "metadata": {},
   "outputs": [
    {
     "name": "stdout",
     "output_type": "stream",
     "text": [
      "You are allowed to vote.\n"
     ]
    }
   ],
   "source": [
    "if age >= 18:\n",
    "    print(\"You are allowed to vote.\")\n",
    "    if age == 18:\n",
    "        print(\"You are just old enough to vote.\")   \n",
    "else:\n",
    "    print(\"You are not allowed to vote.\")"
   ]
  },
  {
   "cell_type": "code",
   "execution_count": 9,
   "id": "64d530fc",
   "metadata": {},
   "outputs": [
    {
     "name": "stdout",
     "output_type": "stream",
     "text": [
      "You are allowed to vote.\n",
      "You are just old enough to vote.\n"
     ]
    }
   ],
   "source": [
    "age = int(input(\"Enter your age: \"))\n",
    "if age >= 18:\n",
    "    print(\"You are allowed to vote.\")\n",
    "    if age == 18:\n",
    "        print(\"You are just old enough to vote.\")   \n",
    "else:\n",
    "    print(\"You are not allowed to vote.\")"
   ]
  },
  {
   "cell_type": "code",
   "execution_count": 10,
   "id": "0ac8d62f",
   "metadata": {},
   "outputs": [
    {
     "name": "stdout",
     "output_type": "stream",
     "text": [
      "2024 is a leap year.\n"
     ]
    }
   ],
   "source": [
    "## Determine if a year is a leap year using nested if statements\n",
    "year = int(input(\"Enter a year: \"))\n",
    "if year % 4 == 0:\n",
    "    if year % 100 == 0:\n",
    "        if year % 400 == 0:\n",
    "            print(f\"{year} is a leap year.\")\n",
    "        else:\n",
    "            print(f\"{year} is not a leap year.\")\n",
    "    else:\n",
    "        print(f\"{year} is a leap year.\")    "
   ]
  }
 ],
 "metadata": {
  "kernelspec": {
   "display_name": "Python 3",
   "language": "python",
   "name": "python3"
  },
  "language_info": {
   "codemirror_mode": {
    "name": "ipython",
    "version": 3
   },
   "file_extension": ".py",
   "mimetype": "text/x-python",
   "name": "python",
   "nbconvert_exporter": "python",
   "pygments_lexer": "ipython3",
   "version": "3.12.0"
  }
 },
 "nbformat": 4,
 "nbformat_minor": 5
}
