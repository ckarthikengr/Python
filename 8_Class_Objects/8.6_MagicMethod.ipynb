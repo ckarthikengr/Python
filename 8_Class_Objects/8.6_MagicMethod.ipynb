{
 "cells": [
  {
   "cell_type": "code",
   "execution_count": null,
   "id": "e3d60a74",
   "metadata": {},
   "outputs": [],
   "source": [
    "## Magic methods"
   ]
  },
  {
   "cell_type": "markdown",
   "id": "d313b7c2",
   "metadata": {},
   "source": [
    "Magic methods are predefined methods in python that you can override to change the behaviour  of your objects. Some common magic methods include:\n",
    "init : INitialize a new instance of a class\n",
    "str : Returns a string representation of an object\n",
    "repr :Returns official string representation of objects\n",
    "len : Returns the length of an object\n",
    "getitem : gets an item from a container\n",
    "setitem: sets an item in a container"
   ]
  },
  {
   "cell_type": "code",
   "execution_count": 2,
   "id": "6d861b48",
   "metadata": {},
   "outputs": [
    {
     "name": "stdout",
     "output_type": "stream",
     "text": [
      "<__main__.Person object at 0x000001472ED79AF0>\n"
     ]
    }
   ],
   "source": [
    "class Person:\n",
    "    def __init__(self,name,age):\n",
    "        self.name=name\n",
    "        self.age=age\n",
    "    \n",
    "person = Person(\"Karthik\" , 30)\n",
    "print(person)"
   ]
  },
  {
   "cell_type": "code",
   "execution_count": 10,
   "id": "5b6bc7d4",
   "metadata": {},
   "outputs": [
    {
     "name": "stdout",
     "output_type": "stream",
     "text": [
      "Karthik , 30 years old\n",
      "Person(name=Karthik,age=30)\n"
     ]
    }
   ],
   "source": [
    "class Person:\n",
    "    def __init__(self,name,age):\n",
    "        self.name=name\n",
    "        self.age=age\n",
    "\n",
    "    def __str__(self):\n",
    "        return f\"{self.name} , {self.age} years old\"\n",
    "    \n",
    "    def __repr__(self):\n",
    "        return f\"Person(name={self.name},age={self.age})\"\n",
    "    \n",
    "person = Person(\"Karthik\" , 30)\n",
    "print(person)\n",
    "print(repr(person))"
   ]
  },
  {
   "cell_type": "code",
   "execution_count": null,
   "id": "64e20ef9",
   "metadata": {},
   "outputs": [],
   "source": []
  },
  {
   "cell_type": "code",
   "execution_count": null,
   "id": "18e9cbec",
   "metadata": {},
   "outputs": [],
   "source": []
  }
 ],
 "metadata": {
  "kernelspec": {
   "display_name": "Python 3",
   "language": "python",
   "name": "python3"
  },
  "language_info": {
   "codemirror_mode": {
    "name": "ipython",
    "version": 3
   },
   "file_extension": ".py",
   "mimetype": "text/x-python",
   "name": "python",
   "nbconvert_exporter": "python",
   "pygments_lexer": "ipython3",
   "version": "3.12.0"
  }
 },
 "nbformat": 4,
 "nbformat_minor": 5
}
