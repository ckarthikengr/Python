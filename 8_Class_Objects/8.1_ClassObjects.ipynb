{
 "cells": [
  {
   "cell_type": "code",
   "execution_count": null,
   "id": "f80b45a5",
   "metadata": {},
   "outputs": [
    {
     "name": "stdout",
     "output_type": "stream",
     "text": [
      "<class '__main__.Car'>\n",
      "4\n",
      "<class '__main__.Car'>\n",
      "2\n"
     ]
    }
   ],
   "source": [
    "#### A Class\n",
    "class Car:\n",
    "    pass\n",
    "\n",
    "audi=Car()\n",
    "audi.windows=4\n",
    "bmw=Car()\n",
    "bmw.windows=2 ## defining attribute like this is not proper way as each implmention can have different variables\n",
    "print(type(audi))\n",
    "print(audi.windows)\n",
    "print(type(bmw))\n",
    "print(bmw.windows)"
   ]
  },
  {
   "cell_type": "code",
   "execution_count": 7,
   "id": "97c06d82",
   "metadata": {},
   "outputs": [
    {
     "data": {
      "text/plain": [
       "['__class__',\n",
       " '__delattr__',\n",
       " '__dict__',\n",
       " '__dir__',\n",
       " '__doc__',\n",
       " '__eq__',\n",
       " '__format__',\n",
       " '__ge__',\n",
       " '__getattribute__',\n",
       " '__getstate__',\n",
       " '__gt__',\n",
       " '__hash__',\n",
       " '__init__',\n",
       " '__init_subclass__',\n",
       " '__le__',\n",
       " '__lt__',\n",
       " '__module__',\n",
       " '__ne__',\n",
       " '__new__',\n",
       " '__reduce__',\n",
       " '__reduce_ex__',\n",
       " '__repr__',\n",
       " '__setattr__',\n",
       " '__sizeof__',\n",
       " '__str__',\n",
       " '__subclasshook__',\n",
       " '__weakref__',\n",
       " 'windows']"
      ]
     },
     "execution_count": 7,
     "metadata": {},
     "output_type": "execute_result"
    }
   ],
   "source": [
    "dir(bmw)"
   ]
  },
  {
   "cell_type": "code",
   "execution_count": 12,
   "id": "ba3df2c2",
   "metadata": {},
   "outputs": [
    {
     "name": "stdout",
     "output_type": "stream",
     "text": [
      "Jack\n",
      "10\n"
     ]
    }
   ],
   "source": [
    "## Instance variable and methods\n",
    "\n",
    "class Dog:\n",
    "    #Creating constructor\n",
    "    def __init__(self,name,age):\n",
    "        self.name=name\n",
    "        self.age=age\n",
    "\n",
    "## create objects\n",
    "dog1=Dog(\"Jack\",10)\n",
    "print(dog1.name)\n",
    "print(dog1.age)\n",
    "\n",
    "\n"
   ]
  },
  {
   "cell_type": "code",
   "execution_count": 13,
   "id": "68cb7cad",
   "metadata": {},
   "outputs": [
    {
     "name": "stdout",
     "output_type": "stream",
     "text": [
      "Jack sounds woof\n",
      "Joe sounds woof\n"
     ]
    }
   ],
   "source": [
    "## Define a class with instance methods\n",
    "class Dog:\n",
    "    def __init__(self, name, age):\n",
    "        self.name=name\n",
    "        self.age=age\n",
    "    \n",
    "    def noise(self):\n",
    "        print(f\"{self.name} sounds woof\")\n",
    "\n",
    "dog1=Dog(\"Jack\",10)\n",
    "dog2=Dog(\"Joe\",5)\n",
    "dog1.noise()\n",
    "dog2.noise()\n",
    "\n"
   ]
  },
  {
   "cell_type": "code",
   "execution_count": 16,
   "id": "7ea2a33b",
   "metadata": {},
   "outputs": [
    {
     "name": "stdout",
     "output_type": "stream",
     "text": [
      "500 deposited , new balance amount : 1500\n",
      "1500 withdrawel completed , new available balance 0\n",
      "Insufficient balance: Current balance 0, Requested amount 10\n"
     ]
    }
   ],
   "source": [
    "## Modelling bank account\n",
    "\n",
    "class BankAccount:\n",
    "    def __init__(self,owner,balance=0):\n",
    "        self.owner=owner\n",
    "        self.balance=balance\n",
    "\n",
    "    def deposit(self,amount):\n",
    "        self.balance+=amount\n",
    "        print(f\"{amount} deposited , new balance amount : {self.balance}\")\n",
    "    \n",
    "    def withdrawal(self,amount):\n",
    "        if self.balance >= amount:\n",
    "            self.balance-=amount\n",
    "            print(f\"{amount} withdrawel completed , new available balance {self.balance}\")\n",
    "        else:\n",
    "            print(f\"Insufficient balance: Current balance {self.balance}, Requested amount {amount}\")\n",
    "\n",
    "## Create a bank account\n",
    "account = BankAccount(\"Karthik\",1000)\n",
    "\n",
    "account.deposit(500)\n",
    "account.withdrawal(1500)\n",
    "account.withdrawal(10)"
   ]
  },
  {
   "cell_type": "code",
   "execution_count": null,
   "id": "ac502c02",
   "metadata": {},
   "outputs": [],
   "source": []
  },
  {
   "cell_type": "code",
   "execution_count": null,
   "id": "cf48af0c",
   "metadata": {},
   "outputs": [],
   "source": []
  }
 ],
 "metadata": {
  "kernelspec": {
   "display_name": "Python 3",
   "language": "python",
   "name": "python3"
  },
  "language_info": {
   "codemirror_mode": {
    "name": "ipython",
    "version": 3
   },
   "file_extension": ".py",
   "mimetype": "text/x-python",
   "name": "python",
   "nbconvert_exporter": "python",
   "pygments_lexer": "ipython3",
   "version": "3.12.0"
  }
 },
 "nbformat": 4,
 "nbformat_minor": 5
}
