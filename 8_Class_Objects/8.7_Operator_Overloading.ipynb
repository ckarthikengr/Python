{
 "cells": [
  {
   "cell_type": "code",
   "execution_count": null,
   "id": "3f5591ad",
   "metadata": {},
   "outputs": [],
   "source": [
    "### Operator overloading\n"
   ]
  },
  {
   "cell_type": "markdown",
   "id": "d3ff0910",
   "metadata": {},
   "source": [
    "Operator overloading allows you to define the behvior of operators (+,-,*,etc.) for custom objects. You achieve this by overriding specific magic methods in your class \n",
    "\n"
   ]
  },
  {
   "cell_type": "code",
   "execution_count": null,
   "id": "b8d2df7d",
   "metadata": {},
   "outputs": [],
   "source": [
    "'''\n",
    "__add__(self,other): Adds two objects using + operator\n",
    "__sub__(self,other): Subtracts two objects using - operator\n",
    "__mul__(self,other): Multiplies two objects using * operator\n",
    "__truediv__(self,other): Divides two objects using / operator\n",
    "__eq__(self,other): Checks iftwo objects are equal using the == operator\n",
    "__lt__(self,other): Checks if one object is less than another using the < operator\n",
    "__gt__(self,other): Checks if one object is less than another using the > operator\n",
    "'''"
   ]
  },
  {
   "cell_type": "code",
   "execution_count": 6,
   "id": "1bc79a0e",
   "metadata": {},
   "outputs": [
    {
     "name": "stdout",
     "output_type": "stream",
     "text": [
      "Vector(5, 7)\n",
      "Vector(1, 1)\n",
      "Vector(30, 40)\n"
     ]
    }
   ],
   "source": [
    "class Vector:\n",
    "    def __init__(self,x,y):\n",
    "        self.x=x\n",
    "        self.y=y\n",
    "    \n",
    "    def __add__(self,other):\n",
    "        return Vector(self.x+other.x,self.y+other.y)\n",
    "    \n",
    "    def __sub__(self,other):\n",
    "        return Vector(self.x-other.x,self.y-other.y)\n",
    "\n",
    "    def __mul__(self,other):\n",
    "        return Vector(self.x*other,self.y*other)\n",
    "\n",
    "    def __eq__(self,other):\n",
    "        return self.x==other.x,self.y==other.y\n",
    "    \n",
    "    def __repr__(self):\n",
    "        return f\"Vector({self.x}, {self.y})\"\n",
    "    \n",
    "vector1=Vector(3,4)\n",
    "vector2=Vector(2,3)\n",
    "print(vector1+vector2)\n",
    "print(vector1-vector2)\n",
    "print(vector1*10)\n"
   ]
  },
  {
   "cell_type": "code",
   "execution_count": 7,
   "id": "1e39fc07",
   "metadata": {},
   "outputs": [
    {
     "name": "stdout",
     "output_type": "stream",
     "text": [
      "3 + 7i\n",
      "1 + -1i\n",
      "-10 + 11i\n",
      "0.8235294117647058 + -0.29411764705882354i\n",
      "False\n"
     ]
    }
   ],
   "source": [
    "## Overloading operators for complex numbers\n",
    "class ComplexNumber:\n",
    "    def __init__(self, real, imag):\n",
    "        self.real = real\n",
    "        self.imag = imag\n",
    "\n",
    "    def __add__(self, other):\n",
    "        return ComplexNumber(self.real + other.real, self.imag + other.imag)\n",
    "\n",
    "    def __sub__(self, other):\n",
    "        return ComplexNumber(self.real - other.real, self.imag - other.imag)\n",
    "\n",
    "    def __mul__(self, other):\n",
    "        real_part = self.real * other.real - self.imag * other.imag\n",
    "        imag_part = self.real * other.imag + self.imag * other.real\n",
    "        return ComplexNumber(real_part, imag_part)\n",
    "\n",
    "    def __truediv__(self, other):\n",
    "        denominator = other.real**2 + other.imag**2\n",
    "        real_part = (self.real * other.real + self.imag * other.imag) / denominator\n",
    "        imag_part = (self.imag * other.real - self.real * other.imag) / denominator\n",
    "        return ComplexNumber(real_part, imag_part)\n",
    "\n",
    "    def __eq__(self, other):\n",
    "        return self.real == other.real and self.imag == other.imag\n",
    "\n",
    "    def __repr__(self):\n",
    "        return f\"{self.real} + {self.imag}i\"\n",
    "\n",
    "# Create objects of the ComplexNumber class\n",
    "c1 = ComplexNumber(2, 3)\n",
    "c2 = ComplexNumber(1, 4)\n",
    "\n",
    "# Use overloaded operators\n",
    "print(c1 + c2)  \n",
    "print(c1 - c2) \n",
    "print(c1 * c2) \n",
    "print(c1 / c2)  \n",
    "print(c1 == c2) "
   ]
  }
 ],
 "metadata": {
  "kernelspec": {
   "display_name": "Python 3",
   "language": "python",
   "name": "python3"
  },
  "language_info": {
   "codemirror_mode": {
    "name": "ipython",
    "version": 3
   },
   "file_extension": ".py",
   "mimetype": "text/x-python",
   "name": "python",
   "nbconvert_exporter": "python",
   "pygments_lexer": "ipython3",
   "version": "3.12.0"
  }
 },
 "nbformat": 4,
 "nbformat_minor": 5
}
