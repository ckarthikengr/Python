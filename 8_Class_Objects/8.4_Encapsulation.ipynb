{
 "cells": [
  {
   "cell_type": "code",
   "execution_count": 1,
   "id": "df869932",
   "metadata": {},
   "outputs": [],
   "source": [
    "## Encapsulation with Getters and Setters method\n",
    "## Public, protected, private variables\n",
    "#        \n"
   ]
  },
  {
   "cell_type": "code",
   "execution_count": 5,
   "id": "bfcb168d",
   "metadata": {},
   "outputs": [
    {
     "name": "stdout",
     "output_type": "stream",
     "text": [
      "Karthik\n"
     ]
    }
   ],
   "source": [
    "class Person:\n",
    "    def __init__(self,name,age):\n",
    "        self.name=name  ## public variable\n",
    "        self.age=age    ## public variable\n",
    "\n",
    "    def get_name(self):\n",
    "        return self.name\n",
    "\n",
    "person= Person(\"Karthik\", 30)\n",
    "print(person.get_name())\n"
   ]
  },
  {
   "cell_type": "code",
   "execution_count": 4,
   "id": "503c424d",
   "metadata": {},
   "outputs": [
    {
     "data": {
      "text/plain": [
       "['__class__',\n",
       " '__delattr__',\n",
       " '__dict__',\n",
       " '__dir__',\n",
       " '__doc__',\n",
       " '__eq__',\n",
       " '__format__',\n",
       " '__ge__',\n",
       " '__getattribute__',\n",
       " '__getstate__',\n",
       " '__gt__',\n",
       " '__hash__',\n",
       " '__init__',\n",
       " '__init_subclass__',\n",
       " '__le__',\n",
       " '__lt__',\n",
       " '__module__',\n",
       " '__ne__',\n",
       " '__new__',\n",
       " '__reduce__',\n",
       " '__reduce_ex__',\n",
       " '__repr__',\n",
       " '__setattr__',\n",
       " '__sizeof__',\n",
       " '__str__',\n",
       " '__subclasshook__',\n",
       " '__weakref__',\n",
       " 'age',\n",
       " 'name']"
      ]
     },
     "execution_count": 4,
     "metadata": {},
     "output_type": "execute_result"
    }
   ],
   "source": [
    "dir(person)"
   ]
  },
  {
   "cell_type": "code",
   "execution_count": 15,
   "id": "5c948e70",
   "metadata": {},
   "outputs": [
    {
     "data": {
      "text/plain": [
       "['_Person__age',\n",
       " '_Person__name',\n",
       " '__class__',\n",
       " '__delattr__',\n",
       " '__dict__',\n",
       " '__dir__',\n",
       " '__doc__',\n",
       " '__eq__',\n",
       " '__format__',\n",
       " '__ge__',\n",
       " '__getattribute__',\n",
       " '__getstate__',\n",
       " '__gt__',\n",
       " '__hash__',\n",
       " '__init__',\n",
       " '__init_subclass__',\n",
       " '__le__',\n",
       " '__lt__',\n",
       " '__module__',\n",
       " '__ne__',\n",
       " '__new__',\n",
       " '__reduce__',\n",
       " '__reduce_ex__',\n",
       " '__repr__',\n",
       " '__setattr__',\n",
       " '__sizeof__',\n",
       " '__str__',\n",
       " '__subclasshook__',\n",
       " '__weakref__',\n",
       " 'gender',\n",
       " 'get_name']"
      ]
     },
     "execution_count": 15,
     "metadata": {},
     "output_type": "execute_result"
    }
   ],
   "source": [
    "##Private variable can be accessed within the class . Even derived class cannot access the variable\n",
    "\n",
    "class Person:\n",
    "    def __init__(self,name,age,gender):\n",
    "        self.__name=name  ## private variable\n",
    "        self.__age=age    ## private variable __ infront of variable\n",
    "        self.gender=gender ## public variable\n",
    "    def get_name(self):\n",
    "        return self.name\n",
    "\n",
    "## private variable can be used only with the class below will  not give the private variable outside\n",
    "    def get_name(self):\n",
    "        return person.__name ## This won't work see dir. can use person._Person__name to get name but it is not recommended \n",
    "person= Person(\"Karthik\", 30,\"Male\")\n",
    "dir(person)\n",
    "\n"
   ]
  },
  {
   "cell_type": "code",
   "execution_count": 16,
   "id": "72d8420d",
   "metadata": {},
   "outputs": [
    {
     "name": "stdout",
     "output_type": "stream",
     "text": [
      "Male\n"
     ]
    }
   ],
   "source": [
    "print(person.gender)\n",
    "## print(person.age)  AttributeError: 'Person' object has no attribute 'age'\n"
   ]
  },
  {
   "cell_type": "code",
   "execution_count": 22,
   "id": "bc1193d5",
   "metadata": {},
   "outputs": [
    {
     "name": "stdout",
     "output_type": "stream",
     "text": [
      "Karthik\n"
     ]
    }
   ],
   "source": [
    "## protected variable\n",
    "\n",
    "class Person:\n",
    "    def __init__(self,name,age,gender):\n",
    "        self._name=name  ## protected variable\n",
    "        self._age=age    ## protected variable _ infront of variable\n",
    "        self.gender=gender ## public variable\n",
    " \n",
    "class Employee(Person):\n",
    "    def __init(self,name,age,gender):\n",
    "        super().__init__(name,age,gender) ## self should not be given\n",
    "\n",
    "employee = Employee(\"Karthik\",32,\"Male\")\n",
    "dir(employee)\n",
    "print(employee._name)\n"
   ]
  },
  {
   "cell_type": "code",
   "execution_count": 32,
   "id": "1731baab",
   "metadata": {},
   "outputs": [
    {
     "name": "stdout",
     "output_type": "stream",
     "text": [
      "Karthik\n",
      "30\n",
      "Karthik\n",
      "35\n"
     ]
    }
   ],
   "source": [
    "## Encapsulation using getter and setter method\n",
    "\n",
    "class Person:\n",
    "    def __init__(self,name,age):\n",
    "        self.__name=name ## private access modifier or variable\n",
    "        self.__age=age ## private access modifier or variable\n",
    "    \n",
    "    ## getter mthod for name\n",
    "    def get_name(self):\n",
    "        return self.__name\n",
    "\n",
    "    ## setter method for name\n",
    "    def set_name(self,name):\n",
    "        self.name=name\n",
    "\n",
    "    ## getter mthod for age\n",
    "    def get_age(self):\n",
    "        return self.__age\n",
    "\n",
    "    ## setter method for age\n",
    "    def set_age(self,age):\n",
    "        if age>= 18:\n",
    "            self.__age=age\n",
    "        else:\n",
    "            print(\"Age is less than 18\")\n",
    "\n",
    "\n",
    "person = Person(\"Karthik\",30)\n",
    "\n",
    "print(person.get_name())\n",
    "print(person.get_age())\n",
    "\n",
    "person.set_name(\"Joe\")\n",
    "\n",
    "person.set_age(35)\n",
    "\n",
    "print(person.get_name())\n",
    "print(person.get_age())\n"
   ]
  }
 ],
 "metadata": {
  "kernelspec": {
   "display_name": "Python 3",
   "language": "python",
   "name": "python3"
  },
  "language_info": {
   "codemirror_mode": {
    "name": "ipython",
    "version": 3
   },
   "file_extension": ".py",
   "mimetype": "text/x-python",
   "name": "python",
   "nbconvert_exporter": "python",
   "pygments_lexer": "ipython3",
   "version": "3.12.0"
  }
 },
 "nbformat": 4,
 "nbformat_minor": 5
}
