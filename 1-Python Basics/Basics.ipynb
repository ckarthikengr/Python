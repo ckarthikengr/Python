{
 "cells": [
  {
   "cell_type": "code",
   "execution_count": null,
   "id": "0f54dd31",
   "metadata": {},
   "outputs": [],
   "source": [
    "## Simple calculator"
   ]
  },
  {
   "cell_type": "code",
   "execution_count": null,
   "id": "50c7c8d7",
   "metadata": {},
   "outputs": [],
   "source": [
    "## Simple calculator"
   ]
  },
  {
   "cell_type": "code",
   "execution_count": null,
   "id": "d19acae8",
   "metadata": {},
   "outputs": [],
   "source": [
    "## Simple calculator"
   ]
  }
 ],
 "metadata": {
  "language_info": {
   "name": "python"
  }
 },
 "nbformat": 4,
 "nbformat_minor": 5
}
