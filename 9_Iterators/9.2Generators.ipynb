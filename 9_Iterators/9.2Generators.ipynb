{
 "cells": [
  {
   "cell_type": "markdown",
   "id": "e00da27a",
   "metadata": {},
   "source": [
    "Generators\n",
    "Genertors  are a simpler way to creat iterators. they use the yeild keyword to produce a series of values lazily , which means they generate values on the fly and do not store them in memory"
   ]
  },
  {
   "cell_type": "markdown",
   "id": "8b079cdd",
   "metadata": {},
   "source": []
  },
  {
   "cell_type": "code",
   "execution_count": 2,
   "id": "d130cd75",
   "metadata": {},
   "outputs": [],
   "source": [
    "def square(n):\n",
    "    for i in range(3):\n",
    "        yield i**2"
   ]
  },
  {
   "cell_type": "code",
   "execution_count": 3,
   "id": "cc0a1e82",
   "metadata": {},
   "outputs": [
    {
     "data": {
      "text/plain": [
       "<generator object square at 0x000001C46A7E1080>"
      ]
     },
     "execution_count": 3,
     "metadata": {},
     "output_type": "execute_result"
    }
   ],
   "source": [
    "square(3)"
   ]
  },
  {
   "cell_type": "code",
   "execution_count": 4,
   "id": "6dbe2ecc",
   "metadata": {},
   "outputs": [
    {
     "name": "stdout",
     "output_type": "stream",
     "text": [
      "0\n",
      "1\n",
      "4\n"
     ]
    }
   ],
   "source": [
    "for i in square(3):\n",
    "    print(i)"
   ]
  },
  {
   "cell_type": "code",
   "execution_count": 5,
   "id": "da34893a",
   "metadata": {},
   "outputs": [
    {
     "data": {
      "text/plain": [
       "<generator object square at 0x000001C46A7E3920>"
      ]
     },
     "execution_count": 5,
     "metadata": {},
     "output_type": "execute_result"
    }
   ],
   "source": [
    "a=square(3)\n",
    "a"
   ]
  },
  {
   "cell_type": "code",
   "execution_count": 8,
   "id": "ceefcb68",
   "metadata": {},
   "outputs": [
    {
     "data": {
      "text/plain": [
       "4"
      ]
     },
     "execution_count": 8,
     "metadata": {},
     "output_type": "execute_result"
    }
   ],
   "source": [
    "next(a) ## now calling multiple times"
   ]
  },
  {
   "cell_type": "code",
   "execution_count": 9,
   "id": "7fd54ced",
   "metadata": {},
   "outputs": [
    {
     "ename": "StopIteration",
     "evalue": "",
     "output_type": "error",
     "traceback": [
      "\u001b[31m---------------------------------------------------------------------------\u001b[39m",
      "\u001b[31mStopIteration\u001b[39m                             Traceback (most recent call last)",
      "\u001b[36mCell\u001b[39m\u001b[36m \u001b[39m\u001b[32mIn[9]\u001b[39m\u001b[32m, line 1\u001b[39m\n\u001b[32m----> \u001b[39m\u001b[32m1\u001b[39m \u001b[38;5;28;43mnext\u001b[39;49m\u001b[43m(\u001b[49m\u001b[43ma\u001b[49m\u001b[43m)\u001b[49m\n",
      "\u001b[31mStopIteration\u001b[39m: "
     ]
    }
   ],
   "source": [
    "next(a)"
   ]
  },
  {
   "cell_type": "code",
   "execution_count": 10,
   "id": "a611e593",
   "metadata": {},
   "outputs": [],
   "source": [
    "def my_generator():\n",
    "    yield 1\n",
    "    yield 2\n",
    "    yield 3"
   ]
  },
  {
   "cell_type": "code",
   "execution_count": 11,
   "id": "236cef0b",
   "metadata": {},
   "outputs": [
    {
     "data": {
      "text/plain": [
       "<generator object my_generator at 0x000001C46A8A3950>"
      ]
     },
     "execution_count": 11,
     "metadata": {},
     "output_type": "execute_result"
    }
   ],
   "source": [
    "gen= my_generator()\n",
    "gen"
   ]
  },
  {
   "cell_type": "code",
   "execution_count": 15,
   "id": "931b9d0d",
   "metadata": {},
   "outputs": [
    {
     "ename": "StopIteration",
     "evalue": "",
     "output_type": "error",
     "traceback": [
      "\u001b[31m---------------------------------------------------------------------------\u001b[39m",
      "\u001b[31mStopIteration\u001b[39m                             Traceback (most recent call last)",
      "\u001b[36mCell\u001b[39m\u001b[36m \u001b[39m\u001b[32mIn[15]\u001b[39m\u001b[32m, line 1\u001b[39m\n\u001b[32m----> \u001b[39m\u001b[32m1\u001b[39m \u001b[38;5;28;43mnext\u001b[39;49m\u001b[43m \u001b[49m\u001b[43m(\u001b[49m\u001b[43mgen\u001b[49m\u001b[43m)\u001b[49m\n",
      "\u001b[31mStopIteration\u001b[39m: "
     ]
    }
   ],
   "source": [
    "next (gen)"
   ]
  },
  {
   "cell_type": "code",
   "execution_count": 19,
   "id": "2272fe8a",
   "metadata": {},
   "outputs": [
    {
     "name": "stdout",
     "output_type": "stream",
     "text": [
      "1\n",
      "2\n",
      "3\n"
     ]
    }
   ],
   "source": [
    "gen= my_generator()\n",
    "\n",
    "for val in gen:\n",
    "    print(val)"
   ]
  },
  {
   "cell_type": "code",
   "execution_count": null,
   "id": "c8ae5ee8",
   "metadata": {},
   "outputs": [],
   "source": [
    "## Practical : Reading Large files : Generators are particularly useful for reading large files because they allow you to process one line at a time without loading the entire file into memory"
   ]
  },
  {
   "cell_type": "code",
   "execution_count": 20,
   "id": "f18d0424",
   "metadata": {},
   "outputs": [],
   "source": [
    "def read_large_file(file_path):\n",
    "    with open(file_path,'r') as file:\n",
    "        for line in file:\n",
    "            yield line"
   ]
  },
  {
   "cell_type": "code",
   "execution_count": 21,
   "id": "ac6bb22c",
   "metadata": {},
   "outputs": [
    {
     "name": "stdout",
     "output_type": "stream",
     "text": [
      "India is a country located in South Asia.\n",
      "\n",
      "It is the seventh-largest country by land area in the world.\n",
      "\n",
      "India is the second-most populous country, after China.\n",
      "\n",
      "As of 2025, it has over 1.4 billion people.\n",
      "\n",
      "India shares its borders with Pakistan, China, Nepal, Bhutan, Bangladesh, and Myanmar.\n",
      "\n",
      "It is bounded by the Indian Ocean in the south.\n",
      "\n",
      "The capital city of India is New Delhi.\n",
      "\n",
      "The largest city is Mumbai, also known as Bombay.\n",
      "\n",
      "India gained independence from British rule on August 15, 1947.\n",
      "\n",
      "The country celebrates this as Independence Day every year.\n",
      "\n",
      "India is a democratic republic with a parliamentary system of governance.\n",
      "\n",
      "It has 28 states and 8 union territories.\n",
      "\n",
      "Hindi and English are the official languages at the national level.\n",
      "\n",
      "India recognizes 22 scheduled languages in its constitution.\n",
      "\n",
      "Sanskrit, Tamil, Telugu, Bengali, and Urdu are among its classical languages.\n",
      "\n",
      "The Indian currency is the Indian Rupee (INR).\n",
      "\n",
      "India is known for its rich and diverse culture.\n",
      "\n",
      "The country is home to multiple religions including Hinduism, Islam, Christianity, Sikhism, Buddhism, and Jainism.\n",
      "\n",
      "Hinduism originated in India.\n",
      "\n",
      "Buddhism also began in India with the teachings of Gautama Buddha.\n",
      "\n",
      "India has a vibrant film industry, known as Bollywood.\n",
      "\n",
      "Bollywood produces more films annually than any other country.\n",
      "\n",
      "Cricket is the most popular sport in India.\n",
      "\n",
      "India has won multiple ICC Cricket World Cups.\n",
      "\n",
      "Kabaddi, hockey, and badminton are also widely played.\n",
      "\n",
      "The Indian Premier League (IPL) is a major cricket event.\n",
      "\n",
      "India is famous for its festivals such as Diwali, Holi, Eid, Christmas, and Navratri.\n",
      "\n",
      "Each region in India has its own unique food traditions.\n",
      "\n",
      "Indian cuisine includes spices like turmeric, cumin, and coriander.\n",
      "\n",
      "Biryani, dosa, butter chicken, and samosas are popular Indian dishes.\n",
      "\n",
      "India has many UNESCO World Heritage Sites.\n",
      "\n",
      "The Taj Mahal is one of the most iconic landmarks in the world.\n",
      "\n",
      "Built by Emperor Shah Jahan, the Taj Mahal is a symbol of love.\n",
      "\n",
      "India’s history dates back to the Indus Valley Civilization.\n",
      "\n",
      "The Vedic period laid the foundation of Indian culture and spirituality.\n",
      "\n",
      "India was invaded and ruled by several dynasties over time.\n",
      "\n",
      "The Maurya and Gupta Empires were powerful ancient Indian kingdoms.\n",
      "\n",
      "The Mughals ruled India for several centuries.\n",
      "\n",
      "The British East India Company began control in the 18th century.\n",
      "\n",
      "India became a colony under British Crown rule in 1858.\n",
      "\n",
      "Mahatma Gandhi led a nonviolent struggle for independence.\n",
      "\n",
      "India's constitution came into effect on January 26, 1950.\n",
      "\n",
      "This day is celebrated as Republic Day.\n",
      "\n",
      "India is a member of the United Nations, G20, and BRICS.\n",
      "\n",
      "It has the world’s third-largest standing army.\n",
      "\n",
      "India is a nuclear power nation.\n",
      "\n",
      "The Indian Space Research Organisation (ISRO) is its space agency.\n",
      "\n",
      "ISRO has sent missions to the Moon and Mars.\n",
      "\n",
      "Chandrayaan-3 landed on the Moon’s south pole in 2023.\n",
      "\n",
      "India has a mixed economy, combining agriculture, manufacturing, and services.\n",
      "\n",
      "It is one of the fastest-growing economies in the world.\n",
      "\n",
      "IT and software services are major export sectors.\n",
      "\n",
      "Cities like Bengaluru, Hyderabad, and Pune are tech hubs.\n",
      "\n",
      "India is also a major exporter of pharmaceuticals and textiles.\n",
      "\n",
      "Agriculture employs a large part of the population.\n",
      "\n",
      "The Ganges is the most sacred river in India.\n",
      "\n",
      "Other major rivers include Yamuna, Brahmaputra, and Godavari.\n",
      "\n",
      "India has a variety of landscapes—mountains, deserts, forests, and beaches.\n",
      "\n",
      "The Himalayas lie in the north of India.\n",
      "\n",
      "Mount Kanchenjunga is the highest peak in India.\n",
      "\n",
      "The Thar Desert lies in the west of the country.\n",
      "\n",
      "The Western and Eastern Ghats run along the coasts.\n",
      "\n",
      "India has diverse flora and fauna.\n",
      "\n",
      "Tigers, elephants, peacocks, and leopards are native to India.\n",
      "\n",
      "The Bengal tiger is the national animal.\n",
      "\n",
      "The Indian peacock is the national bird.\n",
      "\n",
      "The banyan is the national tree.\n",
      "\n",
      "The lotus is the national flower.\n",
      "\n",
      "India is known for its classical music and dance forms.\n",
      "\n",
      "Bharatanatyam, Kathak, and Odissi are traditional dance styles.\n",
      "\n",
      "Instruments like sitar, tabla, and veena are part of Indian music.\n",
      "\n",
      "Indian art includes intricate sculptures, paintings, and architecture.\n",
      "\n",
      "The Ajanta and Ellora caves are examples of ancient Indian art.\n",
      "\n",
      "Yoga originated in India thousands of years ago.\n",
      "\n",
      "International Yoga Day is celebrated on June 21.\n",
      "\n",
      "Ayurveda is an ancient Indian system of medicine.\n",
      "\n",
      "Indian clothing varies across regions.\n",
      "\n",
      "Sarees, salwar kameez, and kurta-pajamas are traditional wear.\n",
      "\n",
      "India has a vibrant fashion industry today.\n",
      "\n",
      "Indian democracy is the largest in the world.\n",
      "\n",
      "Citizens vote in national and state elections.\n",
      "\n",
      "The Indian Parliament has two houses: Lok Sabha and Rajya Sabha.\n",
      "\n",
      "The President is the ceremonial head of state.\n",
      "\n",
      "The Prime Minister is the executive leader.\n",
      "\n",
      "Narendra Modi is the Prime Minister as of 2025.\n",
      "\n",
      "India has several major political parties, including the BJP and Congress.\n",
      "\n",
      "The judiciary in India is independent.\n",
      "\n",
      "The Supreme Court is the highest court.\n",
      "\n",
      "Education is valued, with a strong tradition of learning.\n",
      "\n",
      "Institutions like IITs and IIMs are globally recognized.\n",
      "\n",
      "India has made strides in science and innovation.\n",
      "\n",
      "Digital India is a campaign to increase digital infrastructure.\n",
      "\n",
      "Many global companies have a presence in India.\n",
      "\n",
      "Indian diaspora is influential across the world.\n",
      "\n",
      "Indian-origin individuals lead global companies and institutions.\n",
      "\n",
      "Despite challenges, India is a resilient and forward-looking nation.\n",
      "\n",
      "Its diversity is seen as a strength and source of unity.\n",
      "\n",
      "India continues to balance tradition with modernity.\n",
      "\n",
      "Its global influence is rising across multiple domains.\n",
      "\n",
      "India is a land of timeless heritage, vibrant life, and limitless possibilities.\n"
     ]
    }
   ],
   "source": [
    "file_path='large_file.txt'\n",
    "\n",
    "for line in read_large_file(file_path):\n",
    "    print(line.strip())"
   ]
  },
  {
   "cell_type": "code",
   "execution_count": null,
   "id": "66dc237b",
   "metadata": {},
   "outputs": [],
   "source": []
  }
 ],
 "metadata": {
  "kernelspec": {
   "display_name": "Python 3",
   "language": "python",
   "name": "python3"
  },
  "language_info": {
   "codemirror_mode": {
    "name": "ipython",
    "version": 3
   },
   "file_extension": ".py",
   "mimetype": "text/x-python",
   "name": "python",
   "nbconvert_exporter": "python",
   "pygments_lexer": "ipython3",
   "version": "3.12.0"
  }
 },
 "nbformat": 4,
 "nbformat_minor": 5
}
