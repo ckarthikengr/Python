{
 "cells": [
  {
   "cell_type": "markdown",
   "id": "6958edb0",
   "metadata": {},
   "source": [
    "Logging with multiple Loggers\n",
    "\n",
    "You can create multiple loggers for different parts of your application."
   ]
  },
  {
   "cell_type": "code",
   "execution_count": 5,
   "id": "f7d75c1a",
   "metadata": {},
   "outputs": [],
   "source": [
    "import logging\n",
    "\n",
    "## create a logger for module1\n",
    "logger1= logging.getLogger(\"module1\")\n",
    "logger1.setLevel(logging.DEBUG)\n",
    "\n",
    "\n",
    "## create a logger for module 2\n",
    "logger2= logging.getLogger(\"module2\")\n",
    "logger2.setLevel(logging.WARNING)\n",
    "\n",
    "\n",
    "## Configure logging settings\n",
    "logging.basicConfig(\n",
    "    level=logging.DEBUG,\n",
    "    format='%(asctime)s-%(name)s-%(levelname)s-%(message)s',\n",
    "    datefmt='%Y-%m-%d %H:%M:%S'\n",
    ")\n",
    "\n",
    "\n",
    "\n",
    "\n"
   ]
  },
  {
   "cell_type": "code",
   "execution_count": 4,
   "id": "8a3d9fbf",
   "metadata": {},
   "outputs": [
    {
     "name": "stderr",
     "output_type": "stream",
     "text": [
      "2025-06-20 12:50:10-module1-DEBUG-This is debug message for module 1\n",
      "2025-06-20 12:50:10-module2-WARNING-This is debug message for module 2\n",
      "2025-06-20 12:50:10-module2-ERROR-This is an error  message\n"
     ]
    }
   ],
   "source": [
    "## Log message with different loggers\n",
    "\n",
    "logger1.debug(\"This is debug message for module 1\")\n",
    "logger2.warning(\"This is debug message for module 2\")\n",
    "logger2.error(\"This is an error  message\")"
   ]
  },
  {
   "cell_type": "code",
   "execution_count": null,
   "id": "9ef3e73d",
   "metadata": {},
   "outputs": [],
   "source": []
  },
  {
   "cell_type": "code",
   "execution_count": null,
   "id": "cfc477ba",
   "metadata": {},
   "outputs": [],
   "source": []
  }
 ],
 "metadata": {
  "kernelspec": {
   "display_name": "Python 3",
   "language": "python",
   "name": "python3"
  },
  "language_info": {
   "codemirror_mode": {
    "name": "ipython",
    "version": 3
   },
   "file_extension": ".py",
   "mimetype": "text/x-python",
   "name": "python",
   "nbconvert_exporter": "python",
   "pygments_lexer": "ipython3",
   "version": "3.12.0"
  }
 },
 "nbformat": 4,
 "nbformat_minor": 5
}
