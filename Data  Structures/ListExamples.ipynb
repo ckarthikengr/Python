{
 "cells": [
  {
   "cell_type": "code",
   "execution_count": 1,
   "id": "3649ac15",
   "metadata": {},
   "outputs": [
    {
     "name": "stdout",
     "output_type": "stream",
     "text": [
      "Dont forget to buy groceries\n",
      "To do list remaining\n",
      "-Buy groceries\n",
      "-Finish homework\n",
      "-Schedule meating\n",
      "-Go for a run\n"
     ]
    }
   ],
   "source": [
    "to_do_list = [\"Buy groceries\", \"Walk the dog\", \"Finish homework\"] \n",
    "\n",
    "## adding to task\n",
    "to_do_list.append(\"Schedule meating\")\n",
    "to_do_list.append(\"Go for a run\")\n",
    "\n",
    "##Removing a task\n",
    "to_do_list.remove(\"Walk the dog\")\n",
    "## Checking if a task in the list\n",
    "if \"Buy groceries\" in to_do_list:\n",
    "    print(\"Dont forget to buy groceries\")\n",
    "\n",
    "print (\"To do list remaining\")\n",
    "for task in to_do_list:\n",
    "    print(f\"-{task}\")\n",
    "    "
   ]
  },
  {
   "cell_type": "code",
   "execution_count": 3,
   "id": "3fe65731",
   "metadata": {},
   "outputs": [
    {
     "name": "stdout",
     "output_type": "stream",
     "text": [
      "Average Grade:90.57\n",
      "Highest grade: 100\n",
      "Lowest grade: 83\n"
     ]
    }
   ],
   "source": [
    "## Organiziing student grades\n",
    "grades =[85,95,84,83,99,88]\n",
    "#Adding a new grade\n",
    "grades.append(100)\n",
    "\n",
    "#Calculating the average grade\n",
    "average_grade = sum(grades) / len(grades)\n",
    "print(f\"Average Grade:{average_grade:.2f}\")\n",
    "\n",
    "# Finding the highest and lowest grades\n",
    "highest_grade = max(grades)\n",
    "lowest_grade = min(grades)\n",
    "print(f\"Highest grade: {highest_grade}\")\n",
    "print(f\"Lowest grade: {lowest_grade}\")\n"
   ]
  },
  {
   "cell_type": "code",
   "execution_count": 6,
   "id": "6343aef0",
   "metadata": {},
   "outputs": [
    {
     "name": "stdout",
     "output_type": "stream",
     "text": [
      "Available items : ['apples', 'oranges', 'grapes', 'strawberries']\n",
      "Oranges are out of stock\n",
      "Available inventory items are \n",
      "-apples\n",
      "-oranges\n",
      "-grapes\n",
      "-strawberries\n"
     ]
    }
   ],
   "source": [
    "## Managing inventories\n",
    "inventory = [\"apples\", \"bananas\",\"oranges\",\"grapes\"]\n",
    "\n",
    "#Adding a new item\n",
    "inventory.append(\"strawberries\")\n",
    "\n",
    "#Removing an item that is out of stock\n",
    "inventory.remove(\"bananas\")\n",
    "\n",
    "print(f\"Available items : {inventory}\")\n",
    "#Checking if an item is in stock\n",
    "item=\"Oranges\"\n",
    "if item in inventory:\n",
    "    print(f\"{item} are in stock\")\n",
    "else:\n",
    "    print(f\"{item} are out of stock\")\n",
    "\n",
    "print(\"Available inventory items are \")\n",
    "for i in inventory:\n",
    "    print(f\"-{i}\")"
   ]
  },
  {
   "cell_type": "code",
   "execution_count": 8,
   "id": "d259f7d5",
   "metadata": {},
   "outputs": [
    {
     "name": "stdout",
     "output_type": "stream",
     "text": [
      "Positive Feedback Count: 3\n",
      "User feedback\n",
      "-Great\n",
      "-Very satisfied\n",
      "-Satisfied\n",
      "-Excellent service\n",
      "-Not happy with the service\n",
      "-great\n"
     ]
    }
   ],
   "source": [
    "## Collecting user feedback\n",
    "feedback =[\"Great\",\"Very satisfied\", \"Satisfied\",\"Excellent service\"]\n",
    "\n",
    "## Adding new feedback\n",
    "feedback.append(\"Not happy with the service\")\n",
    "feedback.append(\"great\")\n",
    "#Counting specific feedback\n",
    "positive_feedback_count = sum(1 for comment in feedback if \"great\" in comment.lower() or \"excellent\" in comment.lower())\n",
    "print(f\"Positive Feedback Count: {positive_feedback_count}\")\n",
    "\n",
    "#Printing all feedback \n",
    "print(\"User feedback\")\n",
    "for comment in feedback:\n",
    "    print(f\"-{comment}\")"
   ]
  },
  {
   "cell_type": "code",
   "execution_count": null,
   "id": "dca2e8cd",
   "metadata": {},
   "outputs": [],
   "source": []
  }
 ],
 "metadata": {
  "kernelspec": {
   "display_name": "Python 3",
   "language": "python",
   "name": "python3"
  },
  "language_info": {
   "codemirror_mode": {
    "name": "ipython",
    "version": 3
   },
   "file_extension": ".py",
   "mimetype": "text/x-python",
   "name": "python",
   "nbconvert_exporter": "python",
   "pygments_lexer": "ipython3",
   "version": "3.12.0"
  }
 },
 "nbformat": 4,
 "nbformat_minor": 5
}
