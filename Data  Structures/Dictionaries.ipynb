{
 "cells": [
  {
   "cell_type": "code",
   "execution_count": 1,
   "id": "638b3cac",
   "metadata": {},
   "outputs": [
    {
     "name": "stdout",
     "output_type": "stream",
     "text": [
      "<class 'dict'>\n"
     ]
    }
   ],
   "source": [
    "## Creating Dictionaries\n",
    "\n",
    "empty_dict = {}\n",
    "print(type(empty_dict))  # <class 'dict'>"
   ]
  },
  {
   "cell_type": "code",
   "execution_count": 2,
   "id": "271423be",
   "metadata": {},
   "outputs": [
    {
     "name": "stdout",
     "output_type": "stream",
     "text": [
      "<class 'dict'>\n"
     ]
    }
   ],
   "source": [
    "empty_dict=dict()\n",
    "print(type(empty_dict))  # <class 'dict'>"
   ]
  },
  {
   "cell_type": "code",
   "execution_count": 4,
   "id": "4199686d",
   "metadata": {},
   "outputs": [
    {
     "name": "stdout",
     "output_type": "stream",
     "text": [
      "{'name': 'John', 'age': 20, 'major': 'Computer Science'}\n",
      "<class 'dict'>\n"
     ]
    }
   ],
   "source": [
    "student = {\"name\": \"John\", \"age\": 20, \"major\": \"Computer Science\"}\n",
    "print(student)  # {'name': 'John', 'age': 20, 'major': 'Computer Science'}\n",
    "print(type(student))  # <class 'dict'>"
   ]
  },
  {
   "cell_type": "code",
   "execution_count": null,
   "id": "1874a791",
   "metadata": {},
   "outputs": [],
   "source": [
    "#Error: using same key multiple times\n",
    "# This will overwrite the value of \"name\" with the last one provided.\n",
    "student = {\"name\": \"John\", \"age\": 20, \"name\": 24}\n"
   ]
  },
  {
   "cell_type": "code",
   "execution_count": 13,
   "id": "5a57cff7",
   "metadata": {},
   "outputs": [
    {
     "name": "stdout",
     "output_type": "stream",
     "text": [
      "{'name': 24, 'age': 20}\n"
     ]
    }
   ],
   "source": [
    "print(student)  # {'name': 24, 'age': 20}"
   ]
  },
  {
   "cell_type": "code",
   "execution_count": 22,
   "id": "5ceace36",
   "metadata": {},
   "outputs": [
    {
     "name": "stdout",
     "output_type": "stream",
     "text": [
      "John\n",
      "20\n",
      "Computer Science\n"
     ]
    }
   ],
   "source": [
    "## accessing dictionary elements\n",
    "student = {\"name\": \"John\", \"age\": 20, \"major\": \"Computer Science\"}\n",
    "print(student[\"name\"])  \n",
    "print(student[\"age\"])\n",
    "print(student[\"major\"])\n",
    "#print(student[\"last_name\"])  # KeyError: 'last_name'"
   ]
  },
  {
   "cell_type": "code",
   "execution_count": 20,
   "id": "8f4dfce1",
   "metadata": {},
   "outputs": [
    {
     "name": "stdout",
     "output_type": "stream",
     "text": [
      "John\n",
      "20\n",
      "Computer Science\n",
      "None\n",
      "Not available\n"
     ]
    }
   ],
   "source": [
    "## accessing using get method\n",
    "print(student.get(\"name\"))\n",
    "print(student.get(\"age\"))\n",
    "print(student.get(\"major\"))\n",
    "print(student.get(\"last_name\"))  # None, since \"last_name\" does not exist\n",
    "print(student.get(\"last_name\",\"Not available\"))  # Not available defaulting, since \"last_name\" does not exist"
   ]
  },
  {
   "cell_type": "code",
   "execution_count": 23,
   "id": "05b1739c",
   "metadata": {},
   "outputs": [
    {
     "name": "stdout",
     "output_type": "stream",
     "text": [
      "{'name': 'John', 'age': 20, 'major': 'Computer Science'}\n"
     ]
    }
   ],
   "source": [
    "## Modifying dictionaries elements\n",
    "## Dictionary ar mutable, so you can add , uopdate or delete elements\n",
    "print(student)  # {'name': 'John', 'age': 20, 'major': 'Computer Science'}"
   ]
  },
  {
   "cell_type": "code",
   "execution_count": null,
   "id": "f7d1c5d3",
   "metadata": {},
   "outputs": [
    {
     "name": "stdout",
     "output_type": "stream",
     "text": [
      "{'name': 'John', 'age': 33, 'major': 'Computer Science', 'last_name': 'Doe'}\n"
     ]
    }
   ],
   "source": [
    "student[\"age\"] =33 # Updating an existing key\n",
    "student[\"last_name\"] = \"Doe\" # Adding a new key-value pair\n",
    "print(student)  # {'name': 'John', 'age': 33, 'major': 'Computer Science', 'last_name': 'Doe'}"
   ]
  },
  {
   "cell_type": "code",
   "execution_count": 25,
   "id": "54d26c8f",
   "metadata": {},
   "outputs": [
    {
     "name": "stdout",
     "output_type": "stream",
     "text": [
      "{'name': 'John', 'age': 33, 'last_name': 'Doe'}\n"
     ]
    }
   ],
   "source": [
    "del student[\"major\"]  # Deleting a key-value pair\n",
    "print(student)  # {'name': 'John', 'age': 33, 'last_name': 'Doe'}"
   ]
  },
  {
   "cell_type": "code",
   "execution_count": 27,
   "id": "3e9e0946",
   "metadata": {},
   "outputs": [
    {
     "name": "stdout",
     "output_type": "stream",
     "text": [
      "dict_keys(['name', 'age', 'last_name'])\n",
      "dict_values(['John', 33, 'Doe'])\n",
      "dict_items([('name', 'John'), ('age', 33), ('last_name', 'Doe')])\n"
     ]
    }
   ],
   "source": [
    "##Dictionary methods\n",
    "keys = student.keys()  # Returns a view object of the keys\n",
    "print(keys)  # dict_keys(['name', 'age', 'last_name'])\n",
    "values = student.values()  # Returns a view object of the values\n",
    "print(values)  # dict_values(['John', 33, 'Doe'])\n",
    "items = student.items()  # Returns a view object of the key-value pairs\n",
    "print(items)  # dict_items([('name', 'John'), ('age', 33), ('last_name', 'Doe')])\n"
   ]
  },
  {
   "cell_type": "code",
   "execution_count": null,
   "id": "cb922631",
   "metadata": {},
   "outputs": [
    {
     "name": "stdout",
     "output_type": "stream",
     "text": [
      "{'name': 'John', 'age': 33, 'last_name': 'Doe'}\n",
      "{'name': 'John', 'age': 33, 'last_name': 'Doe'}\n"
     ]
    }
   ],
   "source": [
    "## shallow copy - important to understand . dont do the mistake\n",
    "student_copy = student\n",
    "print(student)\n",
    "print(student_copy)  # {'name': 'John', 'age': 33, 'last_name': 'Doe'}"
   ]
  },
  {
   "cell_type": "code",
   "execution_count": null,
   "id": "6f8a460c",
   "metadata": {},
   "outputs": [
    {
     "name": "stdout",
     "output_type": "stream",
     "text": [
      "{'name': 'Michel', 'age': 33, 'last_name': 'Doe'}\n",
      "{'name': 'Michel', 'age': 33, 'last_name': 'Doe'}\n"
     ]
    }
   ],
   "source": [
    "student_copy[\"name\"] = 'Michel'  # Modifying the copy modifies the original important to note\n",
    "print(student)  # {'name': 'Michel', 'age': 33, 'last_name': 'Doe'}\n",
    "print(student_copy)  # {'name': 'Michel', 'age': 33, 'last_name': 'Doe'}"
   ]
  },
  {
   "cell_type": "code",
   "execution_count": 30,
   "id": "09d022bd",
   "metadata": {},
   "outputs": [],
   "source": [
    "student = {\"name\": \"John\", \"age\": 20, \"major\": \"Computer Science\"}"
   ]
  },
  {
   "cell_type": "code",
   "execution_count": 31,
   "id": "ae8cf025",
   "metadata": {},
   "outputs": [
    {
     "name": "stdout",
     "output_type": "stream",
     "text": [
      "{'name': 'John', 'age': 20, 'major': 'Computer Science'}\n",
      "{'name': 'Michel', 'age': 20, 'major': 'Computer Science'}\n"
     ]
    }
   ],
   "source": [
    "student_copy1=student.copy()  # Creates a shallow copy of the dictionary\n",
    "student_copy1[\"name\"] = 'Michel'  # Modifying the copy does not affect the original\n",
    "print(student)  # {'name': 'John', 'age': 20, 'major': 'Computer Science'}  \n",
    "print(student_copy1)  # {'name': 'Michel', 'age': 20, 'major': 'Computer Science'}\n"
   ]
  },
  {
   "cell_type": "code",
   "execution_count": 34,
   "id": "f219fd3f",
   "metadata": {},
   "outputs": [
    {
     "name": "stdout",
     "output_type": "stream",
     "text": [
      "name\n",
      "age\n",
      "major\n"
     ]
    }
   ],
   "source": [
    "## Iterating through dictionaries\n",
    "## You can use loops to iterate through the keys, values, or items of a dictionary.\n",
    "\n",
    "## Iterating over keys\n",
    "for key in student.keys():\n",
    "    print(key)  # Prints each key and its corresponding value"
   ]
  },
  {
   "cell_type": "code",
   "execution_count": 33,
   "id": "4859f4cd",
   "metadata": {},
   "outputs": [
    {
     "name": "stdout",
     "output_type": "stream",
     "text": [
      "John\n",
      "20\n",
      "Computer Science\n"
     ]
    }
   ],
   "source": [
    "## Iterating over values\n",
    "for value in student.values():\n",
    "    print(value)  # Prints each value and its corresponding value\n"
   ]
  },
  {
   "cell_type": "code",
   "execution_count": 35,
   "metadata": {},
   "outputs": [
    {
     "name": "stdout",
     "output_type": "stream",
     "text": [
      "name: John\n",
      "age: 20\n",
      "major: Computer Science\n"
     ]
    }
   ],
   "source": [
    "## iterating over key value pairs\n",
    "for key, value in student.items():\n",
    "    print(f\"{key}: {value}\")  # Prints each key-value pair in the format \"key: value\""
   ]
  },
  {
   "cell_type": "code",
   "execution_count": 37,
   "id": "89ba23c5",
   "metadata": {},
   "outputs": [],
   "source": [
    "## Nested dictionaries\n",
    "students = {\n",
    "    \"student1\": {\"name\": \"John\", \"age\": 20, \"major\": \"Computer Science\"},\n",
    "    \"student2\": {\"name\": \"Jane\", \"age\": 22, \"major\": \"Mathematics\"},\n",
    "    \"student3\": {\"name\": \"Mike\", \"age\": 21, \"major\": \"Physics\"}\n",
    "}"
   ]
  },
  {
   "cell_type": "code",
   "execution_count": 38,
   "id": "abc5f826",
   "metadata": {},
   "outputs": [
    {
     "name": "stdout",
     "output_type": "stream",
     "text": [
      "John\n"
     ]
    }
   ],
   "source": [
    "## Access nested dictionaries  elements\n",
    "print(students[\"student1\"][\"name\"])  # John"
   ]
  },
  {
   "cell_type": "code",
   "execution_count": 40,
   "id": "e22d101a",
   "metadata": {},
   "outputs": [
    {
     "name": "stdout",
     "output_type": "stream",
     "text": [
      "student1: {'name': 'John', 'age': 20, 'major': 'Computer Science'}\n",
      "  name: John\n",
      "  age: 20\n",
      "  major: Computer Science\n",
      "student2: {'name': 'Jane', 'age': 22, 'major': 'Mathematics'}\n",
      "  name: Jane\n",
      "  age: 22\n",
      "  major: Mathematics\n",
      "student3: {'name': 'Mike', 'age': 21, 'major': 'Physics'}\n",
      "  name: Mike\n",
      "  age: 21\n",
      "  major: Physics\n"
     ]
    }
   ],
   "source": [
    "## Iterating over nested dictionaries\n",
    "for student_id, student_info in students.items():\n",
    "    print(f\"{student_id}: {student_info}\")\n",
    "    for key, value in student_info.items():\n",
    "        print(f\"  {key}: {value}\")\n",
    "    # Prints each student's name, age, and major    "
   ]
  },
  {
   "cell_type": "code",
   "execution_count": 42,
   "metadata": {},
   "outputs": [
    {
     "name": "stdout",
     "output_type": "stream",
     "text": [
      "{0: 0, 1: 1, 2: 4, 3: 9, 4: 16}\n"
     ]
    }
   ],
   "source": [
    "## Dictionary comprehensions\n",
    "squares = {x:x**2 for x in range(5)}\n",
    "print(squares)  # {1: 1, 2: 4, 3: 9, 4: 16, 5: 25}"
   ]
  },
  {
   "cell_type": "code",
   "execution_count": 43,
   "id": "ccec38c3",
   "metadata": {},
   "outputs": [
    {
     "name": "stdout",
     "output_type": "stream",
     "text": [
      "{0: 0, 2: 4, 4: 16, 6: 36, 8: 64}\n"
     ]
    }
   ],
   "source": [
    "## Condition dictionary comprehensions\n",
    "even_squares = {x: x**2 for x in range(10) if x % 2 == 0}\n",
    "print(even_squares)  # {0: 0, 2: 4, 4: 16, 6: 36, 8: 64}"
   ]
  },
  {
   "cell_type": "code",
   "execution_count": 49,
   "id": "8b9cd103",
   "metadata": {},
   "outputs": [
    {
     "name": "stdout",
     "output_type": "stream",
     "text": [
      "Frequency of elements in the list using normal loop:\n",
      "{1: 1, 2: 2, 3: 3, 4: 4}\n",
      "Frequency of elements in the list using dictionary comprehension:\n",
      "{1: 1, 2: 2, 3: 3, 4: 4}\n"
     ]
    }
   ],
   "source": [
    "## Practice Exercise\n",
    "## Use a dictionary to countthe frequence of element in a list\n",
    "numbers = [1, 2, 2, 3, 3, 3, 4, 4, 4, 4]\n",
    "frequency = {}\n",
    "for number in numbers:\n",
    "    if number in frequency:\n",
    "        frequency[number] += 1\n",
    "    else:\n",
    "        frequency[number] = 1\n",
    "print(\"Frequency of elements in the list using normal loop:\")\n",
    "print(frequency)  # {1: 1, 2: 2, 3: 3, 4: 4}\n",
    "print(\"Frequency of elements in the list using dictionary comprehension:\")\n",
    "frequency = {x: numbers.count(x) for x in set(numbers)}\n",
    "print(frequency)  # {1: 1, 2: 2, 3: 3, 4: 4}"
   ]
  },
  {
   "cell_type": "code",
   "execution_count": 50,
   "id": "acd3aa8e",
   "metadata": {},
   "outputs": [
    {
     "name": "stdout",
     "output_type": "stream",
     "text": [
      "{'a': 1, 'b': 3, 'c': 4}\n"
     ]
    }
   ],
   "source": [
    "## Merge two dictionaries into one\n",
    "dict1 = {\"a\": 1, \"b\": 2}    \n",
    "dict2 = {\"b\": 3, \"c\": 4}\n",
    "merged_dict = {**dict1, **dict2}  # Merging using unpacking using  keyword arguments    \n",
    "print(merged_dict)  # {'a': 1, 'b': 3, 'c': 4}"
   ]
  }
 ],
 "metadata": {
  "kernelspec": {
   "display_name": "Python 3",
   "language": "python",
   "name": "python3"
  },
  "language_info": {
   "codemirror_mode": {
    "name": "ipython",
    "version": 3
   },
   "file_extension": ".py",
   "mimetype": "text/x-python",
   "name": "python",
   "nbconvert_exporter": "python",
   "pygments_lexer": "ipython3",
   "version": "3.12.0"
  }
 },
 "nbformat": 4,
 "nbformat_minor": 5
}
