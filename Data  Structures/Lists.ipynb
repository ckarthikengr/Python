{
 "cells": [
  {
   "cell_type": "code",
   "execution_count": 6,
   "id": "76abe4a4",
   "metadata": {},
   "outputs": [
    {
     "name": "stdout",
     "output_type": "stream",
     "text": [
      "<class 'list'>\n"
     ]
    }
   ],
   "source": [
    "li=[]\n",
    "print(type(li))"
   ]
  },
  {
   "cell_type": "code",
   "execution_count": 7,
   "id": "97d343bb",
   "metadata": {},
   "outputs": [
    {
     "name": "stdout",
     "output_type": "stream",
     "text": [
      "['Alice', 'Bob', 'Charlie', 1, 2, 3, 4, 5]\n"
     ]
    }
   ],
   "source": [
    "names=['Alice','Bob','Charlie', 1, 2, 3, 4, 5]\n",
    "print(names)"
   ]
  },
  {
   "cell_type": "code",
   "execution_count": 8,
   "id": "b6572d8d",
   "metadata": {},
   "outputs": [
    {
     "name": "stdout",
     "output_type": "stream",
     "text": [
      "Apple\n",
      "Banana\n",
      "Cherry\n",
      "Gauva\n"
     ]
    }
   ],
   "source": [
    "fruits=['Apple', 'Banana', 'Cherry','Gauva'] # single quote or double quote can be used\n",
    "print(fruits[0])  # Accessing the first element\n",
    "print(fruits[1])  # Accessing the second element\n",
    "\n",
    "print(fruits[2])  # Accessing the third element\n",
    "print(fruits[-1]) # Accessing the last element"
   ]
  },
  {
   "cell_type": "code",
   "execution_count": 9,
   "id": "ba44320d",
   "metadata": {},
   "outputs": [
    {
     "name": "stdout",
     "output_type": "stream",
     "text": [
      "['Banana', 'Cherry', 'Gauva']\n",
      "['Banana', 'Cherry']\n"
     ]
    }
   ],
   "source": [
    "print (fruits[1:])\n",
    "print(fruits[1:3])  # Slicing the list to get elements from index 1 to 2"
   ]
  },
  {
   "cell_type": "code",
   "execution_count": 10,
   "id": "37f0c8f4",
   "metadata": {},
   "outputs": [
    {
     "name": "stdout",
     "output_type": "stream",
     "text": [
      "['Gauva']\n"
     ]
    }
   ],
   "source": [
    "print(fruits[-1:]) "
   ]
  },
  {
   "cell_type": "code",
   "execution_count": 11,
   "id": "e0fde991",
   "metadata": {},
   "outputs": [
    {
     "name": "stdout",
     "output_type": "stream",
     "text": [
      "[]\n"
     ]
    }
   ],
   "source": [
    "print(fruits[-1:-3]) "
   ]
  },
  {
   "cell_type": "code",
   "execution_count": 12,
   "id": "0a99a074",
   "metadata": {},
   "outputs": [
    {
     "name": "stdout",
     "output_type": "stream",
     "text": [
      "['Apple', 'Blueberry', 'Cherry', 'Gauva']\n"
     ]
    }
   ],
   "source": [
    "fruits[1] = 'Blueberry'  # Modifying the second element\n",
    "print(fruits)"
   ]
  },
  {
   "cell_type": "code",
   "execution_count": 13,
   "id": "2c3bd06c",
   "metadata": {},
   "outputs": [
    {
     "name": "stdout",
     "output_type": "stream",
     "text": [
      "['Apple', 'W', 'a', 't', 'e', 'r', 'm', 'e', 'l', 'o', 'n']\n"
     ]
    }
   ],
   "source": [
    "fruits[1:]=\"Watermelon\"\n",
    "print(fruits)  # Replacing all elements from index 1 onwards with 'Watermelon'"
   ]
  },
  {
   "cell_type": "code",
   "execution_count": 14,
   "id": "ba35da8d",
   "metadata": {},
   "outputs": [],
   "source": [
    "fruits=['Apple', 'Banana', 'Cherry','Gauva']"
   ]
  },
  {
   "cell_type": "code",
   "execution_count": 15,
   "id": "d582d0b6",
   "metadata": {},
   "outputs": [
    {
     "name": "stdout",
     "output_type": "stream",
     "text": [
      "['Apple', 'Banana', 'Cherry', 'Gauva', 'Mango']\n"
     ]
    }
   ],
   "source": [
    "#List methods\n",
    "fruits.append('Mango')  # Adding an element to the end of the list\n",
    "print(fruits)"
   ]
  },
  {
   "cell_type": "markdown",
   "id": "fb349f8c",
   "metadata": {},
   "source": []
  },
  {
   "cell_type": "code",
   "execution_count": 16,
   "id": "2af7fa18",
   "metadata": {},
   "outputs": [
    {
     "name": "stdout",
     "output_type": "stream",
     "text": [
      "['Apple', 'Orange', 'Banana', 'Cherry', 'Gauva', 'Mango']\n"
     ]
    }
   ],
   "source": [
    "fruits.insert(1, 'Orange')  # Inserting an element at index 1\n",
    "print(fruits)"
   ]
  },
  {
   "cell_type": "code",
   "execution_count": 17,
   "id": "6c6071a5",
   "metadata": {},
   "outputs": [
    {
     "name": "stdout",
     "output_type": "stream",
     "text": [
      "['Apple', 'Orange', 'Banana', 'Gauva', 'Mango']\n"
     ]
    }
   ],
   "source": [
    "fruits.remove('Cherry')  # Removing the first occurrence of 'Cherry'\n",
    "print(fruits)"
   ]
  },
  {
   "cell_type": "code",
   "execution_count": 18,
   "id": "0c59d3de",
   "metadata": {},
   "outputs": [
    {
     "name": "stdout",
     "output_type": "stream",
     "text": [
      "['Apple', 'Orange', 'Banana', 'Gauva']\n",
      "Popped fruit: Mango\n"
     ]
    }
   ],
   "source": [
    "#Remove and return the last element\n",
    "last_fruit = fruits.pop()  # This will remove 'Mango' and return it\n",
    "print(fruits)  # Display the list after popping\n",
    "print(\"Popped fruit:\", last_fruit)  # Display the popped fruit"
   ]
  },
  {
   "cell_type": "code",
   "execution_count": 19,
   "id": "ba431a8f",
   "metadata": {},
   "outputs": [
    {
     "name": "stdout",
     "output_type": "stream",
     "text": [
      "Index of 'Banana': 2\n"
     ]
    }
   ],
   "source": [
    "fruits.index('Banana')  # Finding the index of 'Banana'\n",
    "print(\"Index of 'Banana':\", fruits.index('Banana'))"
   ]
  },
  {
   "cell_type": "code",
   "execution_count": 20,
   "id": "93867d5c",
   "metadata": {},
   "outputs": [
    {
     "name": "stdout",
     "output_type": "stream",
     "text": [
      "['Apple', 'Orange', 'Orange', 'Banana', 'Gauva']\n"
     ]
    }
   ],
   "source": [
    "fruits.insert(1, 'Orange')  # Inserting an element at index 1\n",
    "print(fruits)"
   ]
  },
  {
   "cell_type": "code",
   "execution_count": 23,
   "id": "2eb64bbe",
   "metadata": {},
   "outputs": [
    {
     "name": "stdout",
     "output_type": "stream",
     "text": [
      "Count of 'Orange': 2\n"
     ]
    }
   ],
   "source": [
    "# Counting occurrences of 'Orange' in the list\n",
    "print(\"Count of 'Orange':\", fruits.count('Orange'))"
   ]
  },
  {
   "cell_type": "code",
   "execution_count": 24,
   "id": "f5b73b5d",
   "metadata": {},
   "outputs": [
    {
     "name": "stdout",
     "output_type": "stream",
     "text": [
      "Sorted fruits: ['Apple', 'Banana', 'Gauva', 'Orange', 'Orange']\n"
     ]
    }
   ],
   "source": [
    "fruits.sort()  # Sorting the list in ascending order\n",
    "print(\"Sorted fruits:\", fruits)"
   ]
  },
  {
   "cell_type": "code",
   "execution_count": 25,
   "id": "10812e02",
   "metadata": {},
   "outputs": [
    {
     "name": "stdout",
     "output_type": "stream",
     "text": [
      "Reversed fruits: ['Orange', 'Orange', 'Gauva', 'Banana', 'Apple']\n"
     ]
    }
   ],
   "source": [
    "fruits.reverse()  # Reversing the list\n",
    "print(\"Reversed fruits:\", fruits)"
   ]
  },
  {
   "cell_type": "code",
   "execution_count": 27,
   "id": "caf5d629",
   "metadata": {},
   "outputs": [
    {
     "name": "stdout",
     "output_type": "stream",
     "text": [
      "Cleared fruits: []\n"
     ]
    }
   ],
   "source": [
    "fruits.clear()  # Clearing the list\n",
    "print(\"Cleared fruits:\", fruits)"
   ]
  },
  {
   "cell_type": "code",
   "execution_count": 28,
   "id": "5d297c57",
   "metadata": {},
   "outputs": [
    {
     "name": "stdout",
     "output_type": "stream",
     "text": [
      "[3, 4, 5]\n",
      "[1, 2, 3, 4, 5]\n",
      "[6, 7, 8, 9, 10]\n",
      "[1, 3, 5, 7, 9]\n",
      "[10, 9, 8, 7, 6, 5, 4, 3, 2, 1]\n"
     ]
    }
   ],
   "source": [
    "##Slicing lists\n",
    "numbers = [1, 2, 3, 4, 5, 6, 7, 8, 9, 10]\n",
    "print(numbers[2:5])  # Slicing from index 2 to 4\n",
    "print(numbers[:5])   # Slicing from the start to index 4    \n",
    "print(numbers[5:])   # Slicing from index 5 to the end\n",
    "print(numbers[::2])  # Slicing with a step of 2 (every second element)\n",
    "print(numbers[::-1])  # Reversing the list using slicing"
   ]
  },
  {
   "cell_type": "code",
   "execution_count": 29,
   "id": "f9dd4985",
   "metadata": {},
   "outputs": [
    {
     "name": "stdout",
     "output_type": "stream",
     "text": [
      "[1, 4, 7, 10]\n"
     ]
    }
   ],
   "source": [
    "print(numbers[::3])  # Slicing with a step of 3 (every third element)"
   ]
  },
  {
   "cell_type": "code",
   "execution_count": 30,
   "id": "a283e328",
   "metadata": {},
   "outputs": [
    {
     "data": {
      "text/plain": [
       "[10, 8, 6, 4, 2]"
      ]
     },
     "execution_count": 30,
     "metadata": {},
     "output_type": "execute_result"
    }
   ],
   "source": [
    "numbers[::-2]"
   ]
  },
  {
   "cell_type": "code",
   "execution_count": 32,
   "id": "7270c4c0",
   "metadata": {},
   "outputs": [
    {
     "name": "stdout",
     "output_type": "stream",
     "text": [
      "1\n",
      "2\n",
      "3\n",
      "4\n",
      "5\n",
      "6\n",
      "7\n",
      "8\n",
      "9\n",
      "10\n"
     ]
    }
   ],
   "source": [
    "## Iterating through a list\n",
    "for number in numbers:\n",
    "    print(number)"
   ]
  },
  {
   "cell_type": "code",
   "execution_count": 33,
   "id": "4129c59c",
   "metadata": {},
   "outputs": [
    {
     "name": "stdout",
     "output_type": "stream",
     "text": [
      "Index: 0, Number: 1\n",
      "Index: 1, Number: 2\n",
      "Index: 2, Number: 3\n",
      "Index: 3, Number: 4\n",
      "Index: 4, Number: 5\n",
      "Index: 5, Number: 6\n",
      "Index: 6, Number: 7\n",
      "Index: 7, Number: 8\n",
      "Index: 8, Number: 9\n",
      "Index: 9, Number: 10\n"
     ]
    }
   ],
   "source": [
    "## Iterating with index\n",
    "for index,number in enumerate(numbers):\n",
    "    print(f\"Index: {index}, Number: {number}\")"
   ]
  },
  {
   "cell_type": "code",
   "execution_count": 34,
   "id": "65089fa2",
   "metadata": {},
   "outputs": [
    {
     "name": "stdout",
     "output_type": "stream",
     "text": [
      "List of squares using loop: [0, 1, 4, 9, 16, 25, 36, 49, 64, 81]\n"
     ]
    }
   ],
   "source": [
    "##List comprehensions\n",
    "lst  =[]\n",
    "for i in range(10):\n",
    "    lst.append(i**2)    \n",
    "print(\"List of squares using loop:\", lst)"
   ]
  },
  {
   "cell_type": "code",
   "execution_count": 35,
   "id": "06368702",
   "metadata": {},
   "outputs": [
    {
     "data": {
      "text/plain": [
       "[0, 1, 4, 9, 16, 25, 36, 49, 64, 81]"
      ]
     },
     "execution_count": 35,
     "metadata": {},
     "output_type": "execute_result"
    }
   ],
   "source": [
    "## simplyfying the above code using list comprehension\n",
    "[i**2 for i in range(10)]  # List comprehension to create a list of squares"
   ]
  },
  {
   "cell_type": "markdown",
   "id": "7f1c3172",
   "metadata": {},
   "source": [
    "##### LIST Comprehension\n",
    "\n",
    "Basic syntax [expression for item in iterable]\n",
    "\n",
    "with conditional logic [expression for item in iterable if condition]\n",
    "\n",
    "Nested List comprehension [expression for item1 in iterable1 for item2 in iterable2]"
   ]
  },
  {
   "cell_type": "code",
   "execution_count": 36,
   "id": "05350199",
   "metadata": {},
   "outputs": [
    {
     "name": "stdout",
     "output_type": "stream",
     "text": [
      "List of squares using list comprehension: [0, 1, 4, 9, 16, 25, 36, 49, 64, 81]\n"
     ]
    }
   ],
   "source": [
    "## Basic list comprehension\n",
    "squares = [i**2 for i in range(10)]  # List comprehension to create a list of squares\n",
    "print(\"List of squares using list comprehension:\", squares)"
   ]
  },
  {
   "cell_type": "code",
   "execution_count": 38,
   "id": "c6ba3a2c",
   "metadata": {},
   "outputs": [
    {
     "name": "stdout",
     "output_type": "stream",
     "text": [
      "Even squares using list comprehension: [0, 4, 16, 36, 64]\n"
     ]
    }
   ],
   "source": [
    "## with condition\n",
    "even_squares = [i**2 for i in range(10) if i % 2 == 0]  # List comprehension with a condition   \n",
    "print(\"Even squares using list comprehension:\", even_squares)"
   ]
  },
  {
   "cell_type": "code",
   "execution_count": 39,
   "id": "ef0e9a37",
   "metadata": {},
   "outputs": [
    {
     "name": "stdout",
     "output_type": "stream",
     "text": [
      "Even numbers using list comprehension: [2, 4, 6, 8, 10]\n"
     ]
    }
   ],
   "source": [
    "## Getting even numbers from a list\n",
    "numbers = [1, 2, 3, 4, 5, 6, 7, 8, 9, 10]   \n",
    "even_numbers = [num for num in numbers if num % 2 == 0]  # List comprehension to get even numbers\n",
    "print(\"Even numbers using list comprehension:\", even_numbers)"
   ]
  },
  {
   "cell_type": "code",
   "execution_count": 41,
   "id": "742e78be",
   "metadata": {},
   "outputs": [
    {
     "name": "stdout",
     "output_type": "stream",
     "text": [
      "Nested list comprehension pairs: [[1, 'a'], [1, 'b'], [1, 'c'], [1, 'd'], [2, 'a'], [2, 'b'], [2, 'c'], [2, 'd'], [3, 'a'], [3, 'b'], [3, 'c'], [3, 'd'], [4, 'a'], [4, 'b'], [4, 'c'], [4, 'd']]\n"
     ]
    }
   ],
   "source": [
    "## Nested list comprehensions\n",
    "list1=[1, 2, 3, 4]\n",
    "list2=['a', 'b', 'c', 'd']\n",
    "\n",
    "pair=[[i,j] for i in list1 for j in list2]  # Nested list comprehension to create pairs\n",
    "print(\"Nested list comprehension pairs:\", pair)"
   ]
  },
  {
   "cell_type": "code",
   "execution_count": 42,
   "id": "bfcc53f9",
   "metadata": {},
   "outputs": [
    {
     "name": "stdout",
     "output_type": "stream",
     "text": [
      "Lengths of words using list comprehension: [5, 5, 6, 4, 13]\n"
     ]
    }
   ],
   "source": [
    "## List comprehension with functions calls\n",
    "words = ['hello', 'world', 'python', 'list', 'comprehension']\n",
    "lengths = [len(word) for word in words]  # List comprehension to get lengths of words\n",
    "print(\"Lengths of words using list comprehension:\", lengths)"
   ]
  },
  {
   "cell_type": "code",
   "execution_count": null,
   "id": "d8e689c2",
   "metadata": {},
   "outputs": [],
   "source": []
  },
  {
   "cell_type": "code",
   "execution_count": null,
   "id": "99c52756",
   "metadata": {},
   "outputs": [],
   "source": []
  },
  {
   "cell_type": "code",
   "execution_count": null,
   "id": "79a3c431",
   "metadata": {},
   "outputs": [],
   "source": []
  },
  {
   "cell_type": "code",
   "execution_count": null,
   "id": "60d651e6",
   "metadata": {},
   "outputs": [],
   "source": []
  },
  {
   "cell_type": "code",
   "execution_count": null,
   "id": "cb9af71c",
   "metadata": {},
   "outputs": [],
   "source": []
  },
  {
   "cell_type": "code",
   "execution_count": null,
   "id": "cdca5d8b",
   "metadata": {},
   "outputs": [],
   "source": []
  },
  {
   "cell_type": "code",
   "execution_count": null,
   "id": "a93c0391",
   "metadata": {},
   "outputs": [],
   "source": []
  },
  {
   "cell_type": "code",
   "execution_count": null,
   "id": "07371405",
   "metadata": {},
   "outputs": [],
   "source": []
  }
 ],
 "metadata": {
  "kernelspec": {
   "display_name": "Python 3",
   "language": "python",
   "name": "python3"
  },
  "language_info": {
   "codemirror_mode": {
    "name": "ipython",
    "version": 3
   },
   "file_extension": ".py",
   "mimetype": "text/x-python",
   "name": "python",
   "nbconvert_exporter": "python",
   "pygments_lexer": "ipython3",
   "version": "3.12.0"
  }
 },
 "nbformat": 4,
 "nbformat_minor": 5
}
