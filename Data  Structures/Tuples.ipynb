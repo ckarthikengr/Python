{
 "cells": [
  {
   "cell_type": "code",
   "execution_count": 1,
   "id": "0e1713a6",
   "metadata": {},
   "outputs": [
    {
     "name": "stdout",
     "output_type": "stream",
     "text": [
      "()\n",
      "<class 'tuple'>\n"
     ]
    }
   ],
   "source": [
    "## creating a tuple\n",
    "empty_tuple = ()\n",
    "print(empty_tuple)\n",
    "print(type(empty_tuple))"
   ]
  },
  {
   "cell_type": "code",
   "execution_count": 2,
   "id": "f17e2f0d",
   "metadata": {},
   "outputs": [
    {
     "name": "stdout",
     "output_type": "stream",
     "text": [
      "<class 'list'>\n",
      "<class 'tuple'>\n"
     ]
    }
   ],
   "source": [
    "lst = list()\n",
    "print(type(lst))\n",
    "tpl = tuple()\n",
    "print(type(tpl))"
   ]
  },
  {
   "cell_type": "code",
   "execution_count": 3,
   "id": "56ec5e10",
   "metadata": {},
   "outputs": [
    {
     "name": "stdout",
     "output_type": "stream",
     "text": [
      "(1, 2, 3, 4, 5)\n"
     ]
    }
   ],
   "source": [
    "##list to tuple and tuple to list possible\n",
    "numbers= tuple([1, 2, 3, 4, 5])\n",
    "print(numbers)"
   ]
  },
  {
   "cell_type": "code",
   "execution_count": 4,
   "id": "a776f762",
   "metadata": {},
   "outputs": [
    {
     "data": {
      "text/plain": [
       "[1, 2, 3, 4, 5]"
      ]
     },
     "execution_count": 4,
     "metadata": {},
     "output_type": "execute_result"
    }
   ],
   "source": [
    "list((1,2,3,4,5))"
   ]
  },
  {
   "cell_type": "code",
   "execution_count": 5,
   "id": "b06ce379",
   "metadata": {},
   "outputs": [
    {
     "name": "stdout",
     "output_type": "stream",
     "text": [
      "(1, 2.5, 'hello', [1, 2, 3], True)\n"
     ]
    }
   ],
   "source": [
    "mixed_tuyple = (1, 2.5, 'hello', [1, 2, 3], True)\n",
    "print(mixed_tuyple)"
   ]
  },
  {
   "cell_type": "code",
   "execution_count": 6,
   "id": "a070c63c",
   "metadata": {},
   "outputs": [
    {
     "data": {
      "text/plain": [
       "(1, 2, 3, 4, 5)"
      ]
     },
     "execution_count": 6,
     "metadata": {},
     "output_type": "execute_result"
    }
   ],
   "source": [
    "numbers"
   ]
  },
  {
   "cell_type": "code",
   "execution_count": 7,
   "id": "0a9a2606",
   "metadata": {},
   "outputs": [
    {
     "data": {
      "text/plain": [
       "1"
      ]
     },
     "execution_count": 7,
     "metadata": {},
     "output_type": "execute_result"
    }
   ],
   "source": [
    "numbers[0]"
   ]
  },
  {
   "cell_type": "code",
   "execution_count": 9,
   "id": "63a91083",
   "metadata": {},
   "outputs": [
    {
     "data": {
      "text/plain": [
       "4"
      ]
     },
     "execution_count": 9,
     "metadata": {},
     "output_type": "execute_result"
    }
   ],
   "source": [
    "numbers[3]"
   ]
  },
  {
   "cell_type": "code",
   "execution_count": 10,
   "id": "c553b8a2",
   "metadata": {},
   "outputs": [
    {
     "name": "stdout",
     "output_type": "stream",
     "text": [
      "(1, 2, 3)\n"
     ]
    }
   ],
   "source": [
    "#Slicing opertions of tuples are similar to lists\n",
    "print(numbers[:3])"
   ]
  },
  {
   "cell_type": "code",
   "execution_count": 12,
   "id": "8427b227",
   "metadata": {},
   "outputs": [
    {
     "data": {
      "text/plain": [
       "(5, 3, 1)"
      ]
     },
     "execution_count": 12,
     "metadata": {},
     "output_type": "execute_result"
    }
   ],
   "source": [
    "numbers[::-2]"
   ]
  },
  {
   "cell_type": "code",
   "execution_count": 14,
   "id": "23ec1180",
   "metadata": {},
   "outputs": [
    {
     "data": {
      "text/plain": [
       "(3, 4)"
      ]
     },
     "execution_count": 14,
     "metadata": {},
     "output_type": "execute_result"
    }
   ],
   "source": [
    "numbers[2:4]"
   ]
  },
  {
   "cell_type": "code",
   "execution_count": 11,
   "id": "fd9d30d7",
   "metadata": {},
   "outputs": [
    {
     "data": {
      "text/plain": [
       "(5, 4, 3, 2, 1)"
      ]
     },
     "execution_count": 11,
     "metadata": {},
     "output_type": "execute_result"
    }
   ],
   "source": [
    "numbers[::-1]"
   ]
  },
  {
   "cell_type": "code",
   "execution_count": 15,
   "id": "5cd1cb2d",
   "metadata": {},
   "outputs": [
    {
     "name": "stdout",
     "output_type": "stream",
     "text": [
      "(1, 2, 3, 4, 5, 1, 2.5, 'hello', [1, 2, 3], True)\n"
     ]
    }
   ],
   "source": [
    "#Tuple operations\n",
    "concatenation_tuple = numbers + mixed_tuyple\n",
    "print(concatenation_tuple)"
   ]
  },
  {
   "cell_type": "code",
   "execution_count": 17,
   "id": "f83a98c7",
   "metadata": {},
   "outputs": [
    {
     "data": {
      "text/plain": [
       "(1,\n",
       " 2.5,\n",
       " 'hello',\n",
       " [1, 2, 3],\n",
       " True,\n",
       " 1,\n",
       " 2.5,\n",
       " 'hello',\n",
       " [1, 2, 3],\n",
       " True,\n",
       " 1,\n",
       " 2.5,\n",
       " 'hello',\n",
       " [1, 2, 3],\n",
       " True)"
      ]
     },
     "execution_count": 17,
     "metadata": {},
     "output_type": "execute_result"
    }
   ],
   "source": [
    "mixed_tuyple * 3\n"
   ]
  },
  {
   "cell_type": "code",
   "execution_count": 18,
   "id": "fec77211",
   "metadata": {},
   "outputs": [
    {
     "data": {
      "text/plain": [
       "(1, 2, 3, 4, 5, 1, 2, 3, 4, 5, 1, 2, 3, 4, 5)"
      ]
     },
     "execution_count": 18,
     "metadata": {},
     "output_type": "execute_result"
    }
   ],
   "source": [
    "numbers * 3"
   ]
  },
  {
   "cell_type": "code",
   "execution_count": 19,
   "id": "ba640235",
   "metadata": {},
   "outputs": [
    {
     "name": "stdout",
     "output_type": "stream",
     "text": [
      "[1, 2, 3]\n",
      "[1, 'karthik', 3]\n"
     ]
    }
   ],
   "source": [
    "## Immutable nature of tuples\n",
    "\n",
    "list1 = [1, 2, 3]\n",
    "print(list1)\n",
    "list1[1]=\"karthik\" \n",
    "print(list1)"
   ]
  },
  {
   "cell_type": "code",
   "execution_count": 20,
   "id": "cf5c6e92",
   "metadata": {},
   "outputs": [
    {
     "ename": "TypeError",
     "evalue": "'tuple' object does not support item assignment",
     "output_type": "error",
     "traceback": [
      "\u001b[31m---------------------------------------------------------------------------\u001b[39m",
      "\u001b[31mTypeError\u001b[39m                                 Traceback (most recent call last)",
      "\u001b[36mCell\u001b[39m\u001b[36m \u001b[39m\u001b[32mIn[20]\u001b[39m\u001b[32m, line 1\u001b[39m\n\u001b[32m----> \u001b[39m\u001b[32m1\u001b[39m \u001b[43mnumbers\u001b[49m\u001b[43m[\u001b[49m\u001b[32;43m1\u001b[39;49m\u001b[43m]\u001b[49m=\u001b[33m\"\u001b[39m\u001b[33mkarthik\u001b[39m\u001b[33m\"\u001b[39m  \u001b[38;5;66;03m# This will raise an error because tuples are immutable\u001b[39;00m\n",
      "\u001b[31mTypeError\u001b[39m: 'tuple' object does not support item assignment"
     ]
    }
   ],
   "source": [
    "numbers[1]=\"karthik\"  # This will raise an error because tuples are immutable"
   ]
  },
  {
   "cell_type": "code",
   "execution_count": 21,
   "id": "17d6bd18",
   "metadata": {},
   "outputs": [
    {
     "data": {
      "text/plain": [
       "(1, 2, 3, 4, 5)"
      ]
     },
     "execution_count": 21,
     "metadata": {},
     "output_type": "execute_result"
    }
   ],
   "source": [
    "## Tuple methods\n",
    "numbers"
   ]
  },
  {
   "cell_type": "code",
   "execution_count": 22,
   "id": "2fff983c",
   "metadata": {},
   "outputs": [
    {
     "data": {
      "text/plain": [
       "1"
      ]
     },
     "execution_count": 22,
     "metadata": {},
     "output_type": "execute_result"
    }
   ],
   "source": [
    "numbers.count(1)  # Count occurrences of 1 in the tuple"
   ]
  },
  {
   "cell_type": "code",
   "execution_count": 23,
   "id": "54368daa",
   "metadata": {},
   "outputs": [
    {
     "name": "stdout",
     "output_type": "stream",
     "text": [
      "2\n"
     ]
    }
   ],
   "source": [
    "print(numbers.index(3))  # Find the index of the first occurrence of 3"
   ]
  },
  {
   "cell_type": "code",
   "execution_count": 24,
   "id": "baa5b02b",
   "metadata": {},
   "outputs": [
    {
     "name": "stdout",
     "output_type": "stream",
     "text": [
      "(1, 'Hello', 3.14)\n"
     ]
    }
   ],
   "source": [
    "#Packing and Unpacking tuples\n",
    "packed_tuple = 1, \"Hello\", 3.14\n",
    "print(packed_tuple)"
   ]
  },
  {
   "cell_type": "code",
   "execution_count": 26,
   "id": "92bdd3c8",
   "metadata": {},
   "outputs": [
    {
     "name": "stdout",
     "output_type": "stream",
     "text": [
      "1\n",
      "Hello\n",
      "3.14\n"
     ]
    }
   ],
   "source": [
    "#Unpacking tuple\n",
    "a, b, c = packed_tuple\n",
    "print(a)\n",
    "print(b)        \n",
    "print(c)"
   ]
  },
  {
   "cell_type": "code",
   "execution_count": null,
   "id": "f5306888",
   "metadata": {},
   "outputs": [
    {
     "name": "stdout",
     "output_type": "stream",
     "text": [
      "1\n",
      "[2, 3, 4, 5]\n",
      "6\n"
     ]
    }
   ],
   "source": [
    "## Unpacking with *\n",
    "numbers = (1, 2, 3, 4, 5,6)\n",
    "first, *middle, last = numbers\n",
    "print(first)   # 1\n",
    "print(middle)  # [2, 3, 4, 5]\n",
    "print(last)    # 6"
   ]
  },
  {
   "cell_type": "code",
   "execution_count": null,
   "id": "0032ea0b",
   "metadata": {},
   "outputs": [
    {
     "name": "stdout",
     "output_type": "stream",
     "text": [
      "[1, 2, 3, 4]\n",
      "2\n",
      "Hello\n"
     ]
    }
   ],
   "source": [
    "#Nested tuples\n",
    "#Nested lists\n",
    "lst=[[1,2,3,4], [6,7,8,9],[1,\"Hello\",3.14,\"c\"]]\n",
    "print(lst[0])\n",
    "print(lst[0][1])  # Accessing an element in a nested list\n",
    "print(lst[2][1])  # Accessing an element in a nested list"
   ]
  },
  {
   "cell_type": "code",
   "execution_count": null,
   "id": "6fd2758d",
   "metadata": {},
   "outputs": [
    {
     "data": {
      "text/plain": [
       "[1, 2, 3]"
      ]
     },
     "execution_count": 30,
     "metadata": {},
     "output_type": "execute_result"
    }
   ],
   "source": [
    "#Slicing nested tuples\n",
    "lst[0][0:3]"
   ]
  },
  {
   "cell_type": "code",
   "execution_count": 31,
   "id": "c4502c65",
   "metadata": {},
   "outputs": [
    {
     "data": {
      "text/plain": [
       "['c', 3.14, 'Hello', 1]"
      ]
     },
     "execution_count": 31,
     "metadata": {},
     "output_type": "execute_result"
    }
   ],
   "source": [
    "lst[2][::-1]"
   ]
  },
  {
   "cell_type": "code",
   "execution_count": 36,
   "id": "32f3a782",
   "metadata": {},
   "outputs": [
    {
     "name": "stdout",
     "output_type": "stream",
     "text": [
      "(1, 2, 3)\n",
      "c\n",
      "(False, True)\n"
     ]
    }
   ],
   "source": [
    "## Tuples inside tuples\n",
    "nested_tuple = ((1,2,3), (\"a\",\"b\",\"c\"), (True, False))\n",
    "print(nested_tuple[0])  # Accessing the first tuple\n",
    "print(nested_tuple[1][2])  # Accessing the second element of the second tuple\n",
    "print(nested_tuple[2][::-1])  # Accessing the first element of the third tuple"
   ]
  },
  {
   "cell_type": "code",
   "execution_count": 39,
   "id": "90fec0a9",
   "metadata": {},
   "outputs": [
    {
     "name": "stdout",
     "output_type": "stream",
     "text": [
      "1 2 3 \n",
      "a b c \n",
      "True False \n"
     ]
    }
   ],
   "source": [
    "##iterating over nested tuples\n",
    "for inner_tuple in nested_tuple:\n",
    "    for item in inner_tuple:\n",
    "        print(item, end=' ') ## \"\" also can be used instead of ' '\n",
    "    print()  # New line after each inner tuple"
   ]
  },
  {
   "cell_type": "code",
   "execution_count": null,
   "id": "f68dee3b",
   "metadata": {},
   "outputs": [],
   "source": []
  },
  {
   "cell_type": "code",
   "execution_count": null,
   "id": "218450bb",
   "metadata": {},
   "outputs": [],
   "source": []
  },
  {
   "cell_type": "code",
   "execution_count": null,
   "id": "6007e00f",
   "metadata": {},
   "outputs": [],
   "source": []
  }
 ],
 "metadata": {
  "kernelspec": {
   "display_name": "Python 3",
   "language": "python",
   "name": "python3"
  },
  "language_info": {
   "codemirror_mode": {
    "name": "ipython",
    "version": 3
   },
   "file_extension": ".py",
   "mimetype": "text/x-python",
   "name": "python",
   "nbconvert_exporter": "python",
   "pygments_lexer": "ipython3",
   "version": "3.12.0"
  }
 },
 "nbformat": 4,
 "nbformat_minor": 5
}
